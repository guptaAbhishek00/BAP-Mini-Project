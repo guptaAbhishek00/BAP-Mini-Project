{
  "nbformat": 4,
  "nbformat_minor": 0,
  "metadata": {
    "colab": {
      "provenance": []
    },
    "kernelspec": {
      "name": "python3",
      "display_name": "Python 3"
    },
    "language_info": {
      "name": "python"
    }
  },
  "cells": [
    {
      "cell_type": "code",
      "execution_count": 508,
      "metadata": {
        "id": "CVv-3-0GBubD"
      },
      "outputs": [],
      "source": [
        "import numpy as np\n",
        "import pandas as pd"
      ]
    },
    {
      "cell_type": "code",
      "source": [
        "df = pd.read_excel('Application Form Table.xlsx', header=1)"
      ],
      "metadata": {
        "id": "IFAi1Av2B65j"
      },
      "execution_count": 509,
      "outputs": []
    },
    {
      "cell_type": "code",
      "source": [
        "df.info()"
      ],
      "metadata": {
        "colab": {
          "base_uri": "https://localhost:8080/"
        },
        "id": "qSI-0oyHB9X1",
        "outputId": "4ee53d55-84a3-4aef-a67d-511f7ba2803f"
      },
      "execution_count": 510,
      "outputs": [
        {
          "output_type": "stream",
          "name": "stdout",
          "text": [
            "<class 'pandas.core.frame.DataFrame'>\n",
            "RangeIndex: 958 entries, 0 to 957\n",
            "Data columns (total 46 columns):\n",
            " #   Column                                           Non-Null Count  Dtype  \n",
            "---  ------                                           --------------  -----  \n",
            " 0   ID:                                              958 non-null    int64  \n",
            " 1   Actions                                          958 non-null    object \n",
            " 2   Title of Paper                                   958 non-null    object \n",
            " 3   Year                                             958 non-null    object \n",
            " 4   Application Type                                 958 non-null    object \n",
            " 5   Application Course                               958 non-null    object \n",
            " 6   Application Department                           958 non-null    object \n",
            " 7   Application Class                                958 non-null    object \n",
            " 8   UCID Applicant 1                                 504 non-null    object \n",
            " 9   Applicant 1 Name                                 958 non-null    object \n",
            " 10  Applicant 1 Email                                509 non-null    object \n",
            " 11  Applicant 1 Contact                              482 non-null    float64\n",
            " 12  UCID Applicant 2                                 349 non-null    object \n",
            " 13  Applicant 2 Name                                 544 non-null    object \n",
            " 14  Applicant 2 Email                                346 non-null    object \n",
            " 15  Applicant 2 Contact                              307 non-null    object \n",
            " 16  UCID Applicant 3                                 280 non-null    object \n",
            " 17  Applicant 3 Name                                 420 non-null    object \n",
            " 18  Applicant 3 Email:                               279 non-null    object \n",
            " 19  Applicant 3 Contact                              245 non-null    object \n",
            " 20  UCID Applicant 4                                 38 non-null     object \n",
            " 21  Applicant 4 Name                                 81 non-null     object \n",
            " 22  Applicant 4 Email                                39 non-null     object \n",
            " 23  Applicant 4 Contact                              32 non-null     float64\n",
            " 24  Guid 1 Department                                0 non-null      float64\n",
            " 25  Guid 1 Name                                      914 non-null    object \n",
            " 26  Guid 2 Department                                0 non-null      float64\n",
            " 27  Guid 2 Name                                      208 non-null    object \n",
            " 28  Unnamed: 28                                      954 non-null    object \n",
            " 29  Type of Paper                                    954 non-null    object \n",
            " 30  Type of Publication                              336 non-null    object \n",
            " 31  Name of the Conference/journal/publisher         324 non-null    object \n",
            " 32  Is awarded for anything                          21 non-null     object \n",
            " 33  Award Details in description                     958 non-null    object \n",
            " 34  Date Of Conference / Journal / Book              926 non-null    object \n",
            " 35  Conference_Type                                  480 non-null    object \n",
            " 36  Name of the Hosting Institute of the Conference  506 non-null    object \n",
            " 37  Address of Host Institute                        377 non-null    object \n",
            " 38  ISBN                                             250 non-null    object \n",
            " 39  Indexed                                          143 non-null    object \n",
            " 40  DOI                                              66 non-null     object \n",
            " 41  Citation of Journal                              32 non-null     object \n",
            " 42  Journal from                                     145 non-null    object \n",
            " 43  Document Url                                     324 non-null    object \n",
            " 44  Certificate Url                                  278 non-null    object \n",
            " 45  Remark                                           958 non-null    object \n",
            "dtypes: float64(4), int64(1), object(41)\n",
            "memory usage: 344.4+ KB\n"
          ]
        }
      ]
    },
    {
      "cell_type": "code",
      "source": [
        "# Specify the column(s) you want to drop\n",
        "columns_to_drop = ['ID:', 'Actions', 'UCID Applicant 1', 'Applicant 1 Name', 'Applicant 1 Email', 'Applicant 1 Contact', 'UCID Applicant 2', 'Applicant 2 Name', 'Applicant 2 Email', 'Applicant 2 Contact', 'UCID Applicant 3', 'Applicant 3 Name', 'Applicant 3 Email:', 'Applicant 3 Contact', 'UCID Applicant 4', 'Applicant 4 Name', 'Applicant 4 Email', 'Applicant 4 Contact', 'Guid 1 Department', 'Guid 2 Department', 'Name of the Hosting Institute of the Conference', 'Address of Host Institute', 'ISBN', 'Indexed', 'DOI', 'Citation of Journal', 'Journal from', 'Document Url', 'Certificate Url', 'Remark']\n",
        "\n",
        "# Drop the specified columns\n",
        "df = df.drop(columns=columns_to_drop)"
      ],
      "metadata": {
        "id": "YBk3nr79D5-a"
      },
      "execution_count": 511,
      "outputs": []
    },
    {
      "cell_type": "code",
      "source": [
        "# Create a dictionary with old column names as keys and new column names as values\n",
        "columns_to_rename = {'Conference_Type': 'Name of Hosting Institute', 'Date Of Conference / Journal / Book': 'Conference_Type', 'Award Details in description': 'Date Of Conference / Journal / Book', 'Award Details in description': 'Date Of Conference / Journal / Book', 'Is awarded for anything': 'Award Details in description', 'Name of the Conference/journal/publisher': 'Is awarded for anything', 'Type of Publication': 'Name of the Conference/journal/publisher', 'Type of Paper': 'Type of Publication', 'Unnamed: 28': 'Type of Paper'}\n",
        "\n",
        "# Rename the specified columns\n",
        "df = df.rename(columns=columns_to_rename)"
      ],
      "metadata": {
        "id": "NgR6DdkRFboe"
      },
      "execution_count": 512,
      "outputs": []
    },
    {
      "cell_type": "code",
      "source": [
        "# Specify the column(s) you want to drop\n",
        "columns_to_drop = ['Date Of Conference / Journal / Book', 'Is awarded for anything', 'Award Details in description', 'Name of Hosting Institute', 'Name of the Conference/journal/publisher']\n",
        "\n",
        "# Drop the specified columns\n",
        "df = df.drop(columns=columns_to_drop)"
      ],
      "metadata": {
        "id": "cXHeHl2NKf_r"
      },
      "execution_count": 513,
      "outputs": []
    },
    {
      "cell_type": "code",
      "source": [
        "df['Year'].unique()"
      ],
      "metadata": {
        "colab": {
          "base_uri": "https://localhost:8080/"
        },
        "id": "DbQBoN8eLI6N",
        "outputId": "12711548-2abf-4870-f8cc-668f933ab40f"
      },
      "execution_count": 514,
      "outputs": [
        {
          "output_type": "execute_result",
          "data": {
            "text/plain": [
              "array(['2016-17', '2017-18', '2018-19', '2019-20', '2020-21', '2021-22',\n",
              "       '2022-23', '2023-24', '2024-25'], dtype=object)"
            ]
          },
          "metadata": {},
          "execution_count": 514
        }
      ]
    },
    {
      "cell_type": "code",
      "source": [
        "df['Application Type'].unique()"
      ],
      "metadata": {
        "colab": {
          "base_uri": "https://localhost:8080/"
        },
        "id": "kFAzs_7tMB8S",
        "outputId": "18067f84-9532-43f2-c312-3ab7e582f921"
      },
      "execution_count": 515,
      "outputs": [
        {
          "output_type": "execute_result",
          "data": {
            "text/plain": [
              "array(['Student', 'Faculty', 'Research Scholar', 'faculty', 'student'],\n",
              "      dtype=object)"
            ]
          },
          "metadata": {},
          "execution_count": 515
        }
      ]
    },
    {
      "cell_type": "code",
      "source": [
        "# Specify the column and the dictionary of old and new values\n",
        "column_to_rename_values = {'faculty': 'Faculty', 'student': 'Student'}\n",
        "\n",
        "# Rename values in the specified column\n",
        "df['Application Type'] = df['Application Type'].replace(column_to_rename_values)"
      ],
      "metadata": {
        "id": "yaMb-IX0MHaG"
      },
      "execution_count": 516,
      "outputs": []
    },
    {
      "cell_type": "code",
      "source": [
        "df['Application Type'].unique()"
      ],
      "metadata": {
        "colab": {
          "base_uri": "https://localhost:8080/"
        },
        "id": "ph9ZT0H3NQ_R",
        "outputId": "5f07eb0a-2c83-45c6-fa34-7b72688d8699"
      },
      "execution_count": 517,
      "outputs": [
        {
          "output_type": "execute_result",
          "data": {
            "text/plain": [
              "array(['Student', 'Faculty', 'Research Scholar'], dtype=object)"
            ]
          },
          "metadata": {},
          "execution_count": 517
        }
      ]
    },
    {
      "cell_type": "code",
      "source": [
        "df['Application Course'].unique()"
      ],
      "metadata": {
        "colab": {
          "base_uri": "https://localhost:8080/"
        },
        "id": "R4HCY28FNURA",
        "outputId": "9977c406-0f3d-414e-93d5-599741a64a50"
      },
      "execution_count": 518,
      "outputs": [
        {
          "output_type": "execute_result",
          "data": {
            "text/plain": [
              "array(['UG', 'PG', 'PhD', 'Faculty'], dtype=object)"
            ]
          },
          "metadata": {},
          "execution_count": 518
        }
      ]
    },
    {
      "cell_type": "code",
      "source": [
        "df['Application Department'].unique()"
      ],
      "metadata": {
        "colab": {
          "base_uri": "https://localhost:8080/"
        },
        "id": "raoJffe9NWyL",
        "outputId": "bf152ae3-f3a2-41af-e240-8f55c0ede42c"
      },
      "execution_count": 519,
      "outputs": [
        {
          "output_type": "execute_result",
          "data": {
            "text/plain": [
              "array(['COMPS', 'IT', 'ETRX', 'MCA', 'EXTC', 'ASH'], dtype=object)"
            ]
          },
          "metadata": {},
          "execution_count": 519
        }
      ]
    },
    {
      "cell_type": "code",
      "source": [
        "# Filter the DataFrame to rows where 'Application Department' equals 'ASH', then count the occurrences\n",
        "count_ash = (df['Application Department'] == 'ASH').sum()\n",
        "count_ash"
      ],
      "metadata": {
        "colab": {
          "base_uri": "https://localhost:8080/"
        },
        "id": "Nw01AzMVNax-",
        "outputId": "056bc22e-3df0-4aa1-b80b-088c487fe06f"
      },
      "execution_count": 520,
      "outputs": [
        {
          "output_type": "execute_result",
          "data": {
            "text/plain": [
              "1"
            ]
          },
          "metadata": {},
          "execution_count": 520
        }
      ]
    },
    {
      "cell_type": "code",
      "source": [
        "df['Application Department'] = df['Application Department'].replace('ASH', np.nan)"
      ],
      "metadata": {
        "id": "RZUK08SGNgWQ"
      },
      "execution_count": 521,
      "outputs": []
    },
    {
      "cell_type": "code",
      "source": [
        "df['Application Class'].unique()"
      ],
      "metadata": {
        "colab": {
          "base_uri": "https://localhost:8080/"
        },
        "id": "a0gAp9KkNznZ",
        "outputId": "eb894343-935c-4a52-d211-0b03693fce65"
      },
      "execution_count": 522,
      "outputs": [
        {
          "output_type": "execute_result",
          "data": {
            "text/plain": [
              "array(['F.E.', 'Student', 'B.E.', 'S.Y.MTech', 'T.Y.MCA', 'Faculty',\n",
              "       'PhD', 'F.Y.', 'T.E.', 'M.E.', 'S.Y.', 'T.Y.', 'S.E.',\n",
              "       'Research Scholar', 'S.Y.MCA', 'F.Y.MTech', 'F.Y.MCA'],\n",
              "      dtype=object)"
            ]
          },
          "metadata": {},
          "execution_count": 522
        }
      ]
    },
    {
      "cell_type": "code",
      "source": [
        "# Filter the DataFrame where Application Class is either \"F.E.\" or \"F.Y.\"\n",
        "filtered_df = df[(df['Application Class'] == 'F.E.') | (df['Application Class'] == 'F.Y.')]\n",
        "\n",
        "# Select only the 'Application Department' and 'Application Class' columns in the filtered DataFrame\n",
        "filtered_df = filtered_df[['Application Department', 'Application Class']]\n",
        "\n",
        "# Count the number of unique rows in the filtered DataFrame\n",
        "num_unique_rows = filtered_df.drop_duplicates()"
      ],
      "metadata": {
        "id": "hH95BF5PPRqp"
      },
      "execution_count": 523,
      "outputs": []
    },
    {
      "cell_type": "code",
      "source": [
        "num_unique_rows"
      ],
      "metadata": {
        "colab": {
          "base_uri": "https://localhost:8080/",
          "height": 206
        },
        "id": "tzp3yEpOPU2A",
        "outputId": "d66a0f76-8866-46bf-98ae-d53ace938b6a"
      },
      "execution_count": 524,
      "outputs": [
        {
          "output_type": "execute_result",
          "data": {
            "text/plain": [
              "    Application Department Application Class\n",
              "0                    COMPS              F.E.\n",
              "76                   COMPS              F.Y.\n",
              "194                     IT              F.E.\n",
              "322                   ETRX              F.E.\n",
              "437                   EXTC              F.E."
            ],
            "text/html": [
              "\n",
              "  <div id=\"df-e4ee1054-396f-47bd-8ea8-bd44bfe6b531\" class=\"colab-df-container\">\n",
              "    <div>\n",
              "<style scoped>\n",
              "    .dataframe tbody tr th:only-of-type {\n",
              "        vertical-align: middle;\n",
              "    }\n",
              "\n",
              "    .dataframe tbody tr th {\n",
              "        vertical-align: top;\n",
              "    }\n",
              "\n",
              "    .dataframe thead th {\n",
              "        text-align: right;\n",
              "    }\n",
              "</style>\n",
              "<table border=\"1\" class=\"dataframe\">\n",
              "  <thead>\n",
              "    <tr style=\"text-align: right;\">\n",
              "      <th></th>\n",
              "      <th>Application Department</th>\n",
              "      <th>Application Class</th>\n",
              "    </tr>\n",
              "  </thead>\n",
              "  <tbody>\n",
              "    <tr>\n",
              "      <th>0</th>\n",
              "      <td>COMPS</td>\n",
              "      <td>F.E.</td>\n",
              "    </tr>\n",
              "    <tr>\n",
              "      <th>76</th>\n",
              "      <td>COMPS</td>\n",
              "      <td>F.Y.</td>\n",
              "    </tr>\n",
              "    <tr>\n",
              "      <th>194</th>\n",
              "      <td>IT</td>\n",
              "      <td>F.E.</td>\n",
              "    </tr>\n",
              "    <tr>\n",
              "      <th>322</th>\n",
              "      <td>ETRX</td>\n",
              "      <td>F.E.</td>\n",
              "    </tr>\n",
              "    <tr>\n",
              "      <th>437</th>\n",
              "      <td>EXTC</td>\n",
              "      <td>F.E.</td>\n",
              "    </tr>\n",
              "  </tbody>\n",
              "</table>\n",
              "</div>\n",
              "    <div class=\"colab-df-buttons\">\n",
              "\n",
              "  <div class=\"colab-df-container\">\n",
              "    <button class=\"colab-df-convert\" onclick=\"convertToInteractive('df-e4ee1054-396f-47bd-8ea8-bd44bfe6b531')\"\n",
              "            title=\"Convert this dataframe to an interactive table.\"\n",
              "            style=\"display:none;\">\n",
              "\n",
              "  <svg xmlns=\"http://www.w3.org/2000/svg\" height=\"24px\" viewBox=\"0 -960 960 960\">\n",
              "    <path d=\"M120-120v-720h720v720H120Zm60-500h600v-160H180v160Zm220 220h160v-160H400v160Zm0 220h160v-160H400v160ZM180-400h160v-160H180v160Zm440 0h160v-160H620v160ZM180-180h160v-160H180v160Zm440 0h160v-160H620v160Z\"/>\n",
              "  </svg>\n",
              "    </button>\n",
              "\n",
              "  <style>\n",
              "    .colab-df-container {\n",
              "      display:flex;\n",
              "      gap: 12px;\n",
              "    }\n",
              "\n",
              "    .colab-df-convert {\n",
              "      background-color: #E8F0FE;\n",
              "      border: none;\n",
              "      border-radius: 50%;\n",
              "      cursor: pointer;\n",
              "      display: none;\n",
              "      fill: #1967D2;\n",
              "      height: 32px;\n",
              "      padding: 0 0 0 0;\n",
              "      width: 32px;\n",
              "    }\n",
              "\n",
              "    .colab-df-convert:hover {\n",
              "      background-color: #E2EBFA;\n",
              "      box-shadow: 0px 1px 2px rgba(60, 64, 67, 0.3), 0px 1px 3px 1px rgba(60, 64, 67, 0.15);\n",
              "      fill: #174EA6;\n",
              "    }\n",
              "\n",
              "    .colab-df-buttons div {\n",
              "      margin-bottom: 4px;\n",
              "    }\n",
              "\n",
              "    [theme=dark] .colab-df-convert {\n",
              "      background-color: #3B4455;\n",
              "      fill: #D2E3FC;\n",
              "    }\n",
              "\n",
              "    [theme=dark] .colab-df-convert:hover {\n",
              "      background-color: #434B5C;\n",
              "      box-shadow: 0px 1px 3px 1px rgba(0, 0, 0, 0.15);\n",
              "      filter: drop-shadow(0px 1px 2px rgba(0, 0, 0, 0.3));\n",
              "      fill: #FFFFFF;\n",
              "    }\n",
              "  </style>\n",
              "\n",
              "    <script>\n",
              "      const buttonEl =\n",
              "        document.querySelector('#df-e4ee1054-396f-47bd-8ea8-bd44bfe6b531 button.colab-df-convert');\n",
              "      buttonEl.style.display =\n",
              "        google.colab.kernel.accessAllowed ? 'block' : 'none';\n",
              "\n",
              "      async function convertToInteractive(key) {\n",
              "        const element = document.querySelector('#df-e4ee1054-396f-47bd-8ea8-bd44bfe6b531');\n",
              "        const dataTable =\n",
              "          await google.colab.kernel.invokeFunction('convertToInteractive',\n",
              "                                                    [key], {});\n",
              "        if (!dataTable) return;\n",
              "\n",
              "        const docLinkHtml = 'Like what you see? Visit the ' +\n",
              "          '<a target=\"_blank\" href=https://colab.research.google.com/notebooks/data_table.ipynb>data table notebook</a>'\n",
              "          + ' to learn more about interactive tables.';\n",
              "        element.innerHTML = '';\n",
              "        dataTable['output_type'] = 'display_data';\n",
              "        await google.colab.output.renderOutput(dataTable, element);\n",
              "        const docLink = document.createElement('div');\n",
              "        docLink.innerHTML = docLinkHtml;\n",
              "        element.appendChild(docLink);\n",
              "      }\n",
              "    </script>\n",
              "  </div>\n",
              "\n",
              "\n",
              "<div id=\"df-827d3453-d2e9-4c3e-9d61-5d968aa8befb\">\n",
              "  <button class=\"colab-df-quickchart\" onclick=\"quickchart('df-827d3453-d2e9-4c3e-9d61-5d968aa8befb')\"\n",
              "            title=\"Suggest charts\"\n",
              "            style=\"display:none;\">\n",
              "\n",
              "<svg xmlns=\"http://www.w3.org/2000/svg\" height=\"24px\"viewBox=\"0 0 24 24\"\n",
              "     width=\"24px\">\n",
              "    <g>\n",
              "        <path d=\"M19 3H5c-1.1 0-2 .9-2 2v14c0 1.1.9 2 2 2h14c1.1 0 2-.9 2-2V5c0-1.1-.9-2-2-2zM9 17H7v-7h2v7zm4 0h-2V7h2v10zm4 0h-2v-4h2v4z\"/>\n",
              "    </g>\n",
              "</svg>\n",
              "  </button>\n",
              "\n",
              "<style>\n",
              "  .colab-df-quickchart {\n",
              "      --bg-color: #E8F0FE;\n",
              "      --fill-color: #1967D2;\n",
              "      --hover-bg-color: #E2EBFA;\n",
              "      --hover-fill-color: #174EA6;\n",
              "      --disabled-fill-color: #AAA;\n",
              "      --disabled-bg-color: #DDD;\n",
              "  }\n",
              "\n",
              "  [theme=dark] .colab-df-quickchart {\n",
              "      --bg-color: #3B4455;\n",
              "      --fill-color: #D2E3FC;\n",
              "      --hover-bg-color: #434B5C;\n",
              "      --hover-fill-color: #FFFFFF;\n",
              "      --disabled-bg-color: #3B4455;\n",
              "      --disabled-fill-color: #666;\n",
              "  }\n",
              "\n",
              "  .colab-df-quickchart {\n",
              "    background-color: var(--bg-color);\n",
              "    border: none;\n",
              "    border-radius: 50%;\n",
              "    cursor: pointer;\n",
              "    display: none;\n",
              "    fill: var(--fill-color);\n",
              "    height: 32px;\n",
              "    padding: 0;\n",
              "    width: 32px;\n",
              "  }\n",
              "\n",
              "  .colab-df-quickchart:hover {\n",
              "    background-color: var(--hover-bg-color);\n",
              "    box-shadow: 0 1px 2px rgba(60, 64, 67, 0.3), 0 1px 3px 1px rgba(60, 64, 67, 0.15);\n",
              "    fill: var(--button-hover-fill-color);\n",
              "  }\n",
              "\n",
              "  .colab-df-quickchart-complete:disabled,\n",
              "  .colab-df-quickchart-complete:disabled:hover {\n",
              "    background-color: var(--disabled-bg-color);\n",
              "    fill: var(--disabled-fill-color);\n",
              "    box-shadow: none;\n",
              "  }\n",
              "\n",
              "  .colab-df-spinner {\n",
              "    border: 2px solid var(--fill-color);\n",
              "    border-color: transparent;\n",
              "    border-bottom-color: var(--fill-color);\n",
              "    animation:\n",
              "      spin 1s steps(1) infinite;\n",
              "  }\n",
              "\n",
              "  @keyframes spin {\n",
              "    0% {\n",
              "      border-color: transparent;\n",
              "      border-bottom-color: var(--fill-color);\n",
              "      border-left-color: var(--fill-color);\n",
              "    }\n",
              "    20% {\n",
              "      border-color: transparent;\n",
              "      border-left-color: var(--fill-color);\n",
              "      border-top-color: var(--fill-color);\n",
              "    }\n",
              "    30% {\n",
              "      border-color: transparent;\n",
              "      border-left-color: var(--fill-color);\n",
              "      border-top-color: var(--fill-color);\n",
              "      border-right-color: var(--fill-color);\n",
              "    }\n",
              "    40% {\n",
              "      border-color: transparent;\n",
              "      border-right-color: var(--fill-color);\n",
              "      border-top-color: var(--fill-color);\n",
              "    }\n",
              "    60% {\n",
              "      border-color: transparent;\n",
              "      border-right-color: var(--fill-color);\n",
              "    }\n",
              "    80% {\n",
              "      border-color: transparent;\n",
              "      border-right-color: var(--fill-color);\n",
              "      border-bottom-color: var(--fill-color);\n",
              "    }\n",
              "    90% {\n",
              "      border-color: transparent;\n",
              "      border-bottom-color: var(--fill-color);\n",
              "    }\n",
              "  }\n",
              "</style>\n",
              "\n",
              "  <script>\n",
              "    async function quickchart(key) {\n",
              "      const quickchartButtonEl =\n",
              "        document.querySelector('#' + key + ' button');\n",
              "      quickchartButtonEl.disabled = true;  // To prevent multiple clicks.\n",
              "      quickchartButtonEl.classList.add('colab-df-spinner');\n",
              "      try {\n",
              "        const charts = await google.colab.kernel.invokeFunction(\n",
              "            'suggestCharts', [key], {});\n",
              "      } catch (error) {\n",
              "        console.error('Error during call to suggestCharts:', error);\n",
              "      }\n",
              "      quickchartButtonEl.classList.remove('colab-df-spinner');\n",
              "      quickchartButtonEl.classList.add('colab-df-quickchart-complete');\n",
              "    }\n",
              "    (() => {\n",
              "      let quickchartButtonEl =\n",
              "        document.querySelector('#df-827d3453-d2e9-4c3e-9d61-5d968aa8befb button');\n",
              "      quickchartButtonEl.style.display =\n",
              "        google.colab.kernel.accessAllowed ? 'block' : 'none';\n",
              "    })();\n",
              "  </script>\n",
              "</div>\n",
              "    </div>\n",
              "  </div>\n"
            ],
            "application/vnd.google.colaboratory.intrinsic+json": {
              "type": "dataframe",
              "variable_name": "num_unique_rows",
              "summary": "{\n  \"name\": \"num_unique_rows\",\n  \"rows\": 5,\n  \"fields\": [\n    {\n      \"column\": \"Application Department\",\n      \"properties\": {\n        \"dtype\": \"string\",\n        \"num_unique_values\": 4,\n        \"samples\": [\n          \"IT\",\n          \"EXTC\",\n          \"COMPS\"\n        ],\n        \"semantic_type\": \"\",\n        \"description\": \"\"\n      }\n    },\n    {\n      \"column\": \"Application Class\",\n      \"properties\": {\n        \"dtype\": \"category\",\n        \"num_unique_values\": 2,\n        \"samples\": [\n          \"F.Y.\",\n          \"F.E.\"\n        ],\n        \"semantic_type\": \"\",\n        \"description\": \"\"\n      }\n    }\n  ]\n}"
            }
          },
          "metadata": {},
          "execution_count": 524
        }
      ]
    },
    {
      "cell_type": "code",
      "source": [
        "# Specify the column and the dictionary of old and new values\n",
        "column_to_rename_values = {'F.E.': 'F.Y.'}\n",
        "\n",
        "# Rename values in the specified column\n",
        "df['Application Class'] = df['Application Class'].replace(column_to_rename_values)"
      ],
      "metadata": {
        "id": "fYi52kp8PUzS"
      },
      "execution_count": 525,
      "outputs": []
    },
    {
      "cell_type": "code",
      "source": [
        "# Filter the DataFrame where Application Class is either \"T.E.\" or \"T.Y.\"\n",
        "filtered_df = df[(df['Application Class'] == 'T.E.') | (df['Application Class'] == 'T.Y.')]\n",
        "\n",
        "# Select only the 'Application Department' and 'Application Class' columns in the filtered DataFrame\n",
        "filtered_df = filtered_df[['Application Department', 'Application Class']]\n",
        "\n",
        "# Count the number of unique rows in the filtered DataFrame\n",
        "num_unique_rows = filtered_df.drop_duplicates()"
      ],
      "metadata": {
        "id": "S9X-14OCQQl8"
      },
      "execution_count": 526,
      "outputs": []
    },
    {
      "cell_type": "code",
      "source": [
        "num_unique_rows"
      ],
      "metadata": {
        "colab": {
          "base_uri": "https://localhost:8080/",
          "height": 300
        },
        "id": "9LBNgm-tQQjT",
        "outputId": "34b2aa91-dea3-42e0-fec2-0935bff5ef78"
      },
      "execution_count": 527,
      "outputs": [
        {
          "output_type": "execute_result",
          "data": {
            "text/plain": [
              "    Application Department Application Class\n",
              "143                  COMPS              T.E.\n",
              "272                     IT              T.E.\n",
              "397                    MCA              T.Y.\n",
              "427                    MCA              T.E.\n",
              "635                     IT              T.Y.\n",
              "684                   EXTC              T.E.\n",
              "693                  COMPS              T.Y.\n",
              "841                   ETRX              T.E."
            ],
            "text/html": [
              "\n",
              "  <div id=\"df-37340643-d95a-4ba5-92aa-5c8d652bcd29\" class=\"colab-df-container\">\n",
              "    <div>\n",
              "<style scoped>\n",
              "    .dataframe tbody tr th:only-of-type {\n",
              "        vertical-align: middle;\n",
              "    }\n",
              "\n",
              "    .dataframe tbody tr th {\n",
              "        vertical-align: top;\n",
              "    }\n",
              "\n",
              "    .dataframe thead th {\n",
              "        text-align: right;\n",
              "    }\n",
              "</style>\n",
              "<table border=\"1\" class=\"dataframe\">\n",
              "  <thead>\n",
              "    <tr style=\"text-align: right;\">\n",
              "      <th></th>\n",
              "      <th>Application Department</th>\n",
              "      <th>Application Class</th>\n",
              "    </tr>\n",
              "  </thead>\n",
              "  <tbody>\n",
              "    <tr>\n",
              "      <th>143</th>\n",
              "      <td>COMPS</td>\n",
              "      <td>T.E.</td>\n",
              "    </tr>\n",
              "    <tr>\n",
              "      <th>272</th>\n",
              "      <td>IT</td>\n",
              "      <td>T.E.</td>\n",
              "    </tr>\n",
              "    <tr>\n",
              "      <th>397</th>\n",
              "      <td>MCA</td>\n",
              "      <td>T.Y.</td>\n",
              "    </tr>\n",
              "    <tr>\n",
              "      <th>427</th>\n",
              "      <td>MCA</td>\n",
              "      <td>T.E.</td>\n",
              "    </tr>\n",
              "    <tr>\n",
              "      <th>635</th>\n",
              "      <td>IT</td>\n",
              "      <td>T.Y.</td>\n",
              "    </tr>\n",
              "    <tr>\n",
              "      <th>684</th>\n",
              "      <td>EXTC</td>\n",
              "      <td>T.E.</td>\n",
              "    </tr>\n",
              "    <tr>\n",
              "      <th>693</th>\n",
              "      <td>COMPS</td>\n",
              "      <td>T.Y.</td>\n",
              "    </tr>\n",
              "    <tr>\n",
              "      <th>841</th>\n",
              "      <td>ETRX</td>\n",
              "      <td>T.E.</td>\n",
              "    </tr>\n",
              "  </tbody>\n",
              "</table>\n",
              "</div>\n",
              "    <div class=\"colab-df-buttons\">\n",
              "\n",
              "  <div class=\"colab-df-container\">\n",
              "    <button class=\"colab-df-convert\" onclick=\"convertToInteractive('df-37340643-d95a-4ba5-92aa-5c8d652bcd29')\"\n",
              "            title=\"Convert this dataframe to an interactive table.\"\n",
              "            style=\"display:none;\">\n",
              "\n",
              "  <svg xmlns=\"http://www.w3.org/2000/svg\" height=\"24px\" viewBox=\"0 -960 960 960\">\n",
              "    <path d=\"M120-120v-720h720v720H120Zm60-500h600v-160H180v160Zm220 220h160v-160H400v160Zm0 220h160v-160H400v160ZM180-400h160v-160H180v160Zm440 0h160v-160H620v160ZM180-180h160v-160H180v160Zm440 0h160v-160H620v160Z\"/>\n",
              "  </svg>\n",
              "    </button>\n",
              "\n",
              "  <style>\n",
              "    .colab-df-container {\n",
              "      display:flex;\n",
              "      gap: 12px;\n",
              "    }\n",
              "\n",
              "    .colab-df-convert {\n",
              "      background-color: #E8F0FE;\n",
              "      border: none;\n",
              "      border-radius: 50%;\n",
              "      cursor: pointer;\n",
              "      display: none;\n",
              "      fill: #1967D2;\n",
              "      height: 32px;\n",
              "      padding: 0 0 0 0;\n",
              "      width: 32px;\n",
              "    }\n",
              "\n",
              "    .colab-df-convert:hover {\n",
              "      background-color: #E2EBFA;\n",
              "      box-shadow: 0px 1px 2px rgba(60, 64, 67, 0.3), 0px 1px 3px 1px rgba(60, 64, 67, 0.15);\n",
              "      fill: #174EA6;\n",
              "    }\n",
              "\n",
              "    .colab-df-buttons div {\n",
              "      margin-bottom: 4px;\n",
              "    }\n",
              "\n",
              "    [theme=dark] .colab-df-convert {\n",
              "      background-color: #3B4455;\n",
              "      fill: #D2E3FC;\n",
              "    }\n",
              "\n",
              "    [theme=dark] .colab-df-convert:hover {\n",
              "      background-color: #434B5C;\n",
              "      box-shadow: 0px 1px 3px 1px rgba(0, 0, 0, 0.15);\n",
              "      filter: drop-shadow(0px 1px 2px rgba(0, 0, 0, 0.3));\n",
              "      fill: #FFFFFF;\n",
              "    }\n",
              "  </style>\n",
              "\n",
              "    <script>\n",
              "      const buttonEl =\n",
              "        document.querySelector('#df-37340643-d95a-4ba5-92aa-5c8d652bcd29 button.colab-df-convert');\n",
              "      buttonEl.style.display =\n",
              "        google.colab.kernel.accessAllowed ? 'block' : 'none';\n",
              "\n",
              "      async function convertToInteractive(key) {\n",
              "        const element = document.querySelector('#df-37340643-d95a-4ba5-92aa-5c8d652bcd29');\n",
              "        const dataTable =\n",
              "          await google.colab.kernel.invokeFunction('convertToInteractive',\n",
              "                                                    [key], {});\n",
              "        if (!dataTable) return;\n",
              "\n",
              "        const docLinkHtml = 'Like what you see? Visit the ' +\n",
              "          '<a target=\"_blank\" href=https://colab.research.google.com/notebooks/data_table.ipynb>data table notebook</a>'\n",
              "          + ' to learn more about interactive tables.';\n",
              "        element.innerHTML = '';\n",
              "        dataTable['output_type'] = 'display_data';\n",
              "        await google.colab.output.renderOutput(dataTable, element);\n",
              "        const docLink = document.createElement('div');\n",
              "        docLink.innerHTML = docLinkHtml;\n",
              "        element.appendChild(docLink);\n",
              "      }\n",
              "    </script>\n",
              "  </div>\n",
              "\n",
              "\n",
              "<div id=\"df-7f868dbe-bd92-4579-9085-ede404b3aca1\">\n",
              "  <button class=\"colab-df-quickchart\" onclick=\"quickchart('df-7f868dbe-bd92-4579-9085-ede404b3aca1')\"\n",
              "            title=\"Suggest charts\"\n",
              "            style=\"display:none;\">\n",
              "\n",
              "<svg xmlns=\"http://www.w3.org/2000/svg\" height=\"24px\"viewBox=\"0 0 24 24\"\n",
              "     width=\"24px\">\n",
              "    <g>\n",
              "        <path d=\"M19 3H5c-1.1 0-2 .9-2 2v14c0 1.1.9 2 2 2h14c1.1 0 2-.9 2-2V5c0-1.1-.9-2-2-2zM9 17H7v-7h2v7zm4 0h-2V7h2v10zm4 0h-2v-4h2v4z\"/>\n",
              "    </g>\n",
              "</svg>\n",
              "  </button>\n",
              "\n",
              "<style>\n",
              "  .colab-df-quickchart {\n",
              "      --bg-color: #E8F0FE;\n",
              "      --fill-color: #1967D2;\n",
              "      --hover-bg-color: #E2EBFA;\n",
              "      --hover-fill-color: #174EA6;\n",
              "      --disabled-fill-color: #AAA;\n",
              "      --disabled-bg-color: #DDD;\n",
              "  }\n",
              "\n",
              "  [theme=dark] .colab-df-quickchart {\n",
              "      --bg-color: #3B4455;\n",
              "      --fill-color: #D2E3FC;\n",
              "      --hover-bg-color: #434B5C;\n",
              "      --hover-fill-color: #FFFFFF;\n",
              "      --disabled-bg-color: #3B4455;\n",
              "      --disabled-fill-color: #666;\n",
              "  }\n",
              "\n",
              "  .colab-df-quickchart {\n",
              "    background-color: var(--bg-color);\n",
              "    border: none;\n",
              "    border-radius: 50%;\n",
              "    cursor: pointer;\n",
              "    display: none;\n",
              "    fill: var(--fill-color);\n",
              "    height: 32px;\n",
              "    padding: 0;\n",
              "    width: 32px;\n",
              "  }\n",
              "\n",
              "  .colab-df-quickchart:hover {\n",
              "    background-color: var(--hover-bg-color);\n",
              "    box-shadow: 0 1px 2px rgba(60, 64, 67, 0.3), 0 1px 3px 1px rgba(60, 64, 67, 0.15);\n",
              "    fill: var(--button-hover-fill-color);\n",
              "  }\n",
              "\n",
              "  .colab-df-quickchart-complete:disabled,\n",
              "  .colab-df-quickchart-complete:disabled:hover {\n",
              "    background-color: var(--disabled-bg-color);\n",
              "    fill: var(--disabled-fill-color);\n",
              "    box-shadow: none;\n",
              "  }\n",
              "\n",
              "  .colab-df-spinner {\n",
              "    border: 2px solid var(--fill-color);\n",
              "    border-color: transparent;\n",
              "    border-bottom-color: var(--fill-color);\n",
              "    animation:\n",
              "      spin 1s steps(1) infinite;\n",
              "  }\n",
              "\n",
              "  @keyframes spin {\n",
              "    0% {\n",
              "      border-color: transparent;\n",
              "      border-bottom-color: var(--fill-color);\n",
              "      border-left-color: var(--fill-color);\n",
              "    }\n",
              "    20% {\n",
              "      border-color: transparent;\n",
              "      border-left-color: var(--fill-color);\n",
              "      border-top-color: var(--fill-color);\n",
              "    }\n",
              "    30% {\n",
              "      border-color: transparent;\n",
              "      border-left-color: var(--fill-color);\n",
              "      border-top-color: var(--fill-color);\n",
              "      border-right-color: var(--fill-color);\n",
              "    }\n",
              "    40% {\n",
              "      border-color: transparent;\n",
              "      border-right-color: var(--fill-color);\n",
              "      border-top-color: var(--fill-color);\n",
              "    }\n",
              "    60% {\n",
              "      border-color: transparent;\n",
              "      border-right-color: var(--fill-color);\n",
              "    }\n",
              "    80% {\n",
              "      border-color: transparent;\n",
              "      border-right-color: var(--fill-color);\n",
              "      border-bottom-color: var(--fill-color);\n",
              "    }\n",
              "    90% {\n",
              "      border-color: transparent;\n",
              "      border-bottom-color: var(--fill-color);\n",
              "    }\n",
              "  }\n",
              "</style>\n",
              "\n",
              "  <script>\n",
              "    async function quickchart(key) {\n",
              "      const quickchartButtonEl =\n",
              "        document.querySelector('#' + key + ' button');\n",
              "      quickchartButtonEl.disabled = true;  // To prevent multiple clicks.\n",
              "      quickchartButtonEl.classList.add('colab-df-spinner');\n",
              "      try {\n",
              "        const charts = await google.colab.kernel.invokeFunction(\n",
              "            'suggestCharts', [key], {});\n",
              "      } catch (error) {\n",
              "        console.error('Error during call to suggestCharts:', error);\n",
              "      }\n",
              "      quickchartButtonEl.classList.remove('colab-df-spinner');\n",
              "      quickchartButtonEl.classList.add('colab-df-quickchart-complete');\n",
              "    }\n",
              "    (() => {\n",
              "      let quickchartButtonEl =\n",
              "        document.querySelector('#df-7f868dbe-bd92-4579-9085-ede404b3aca1 button');\n",
              "      quickchartButtonEl.style.display =\n",
              "        google.colab.kernel.accessAllowed ? 'block' : 'none';\n",
              "    })();\n",
              "  </script>\n",
              "</div>\n",
              "    </div>\n",
              "  </div>\n"
            ],
            "application/vnd.google.colaboratory.intrinsic+json": {
              "type": "dataframe",
              "variable_name": "num_unique_rows",
              "summary": "{\n  \"name\": \"num_unique_rows\",\n  \"rows\": 8,\n  \"fields\": [\n    {\n      \"column\": \"Application Department\",\n      \"properties\": {\n        \"dtype\": \"string\",\n        \"num_unique_values\": 5,\n        \"samples\": [\n          \"IT\",\n          \"ETRX\",\n          \"MCA\"\n        ],\n        \"semantic_type\": \"\",\n        \"description\": \"\"\n      }\n    },\n    {\n      \"column\": \"Application Class\",\n      \"properties\": {\n        \"dtype\": \"category\",\n        \"num_unique_values\": 2,\n        \"samples\": [\n          \"T.Y.\",\n          \"T.E.\"\n        ],\n        \"semantic_type\": \"\",\n        \"description\": \"\"\n      }\n    }\n  ]\n}"
            }
          },
          "metadata": {},
          "execution_count": 527
        }
      ]
    },
    {
      "cell_type": "code",
      "source": [
        "# Specify the column and the dictionary of old and new values\n",
        "column_to_rename_values = {'T.E.': 'T.Y.'}\n",
        "\n",
        "# Rename values in the specified column\n",
        "df['Application Class'] = df['Application Class'].replace(column_to_rename_values)"
      ],
      "metadata": {
        "id": "vjo9J9FFQQg0"
      },
      "execution_count": 528,
      "outputs": []
    },
    {
      "cell_type": "code",
      "source": [
        "filtered_df = df[(df['Application Department'] == 'MCA') & (df['Application Class'] == 'T.Y.')]"
      ],
      "metadata": {
        "id": "SZdLf14zqZsJ"
      },
      "execution_count": 529,
      "outputs": []
    },
    {
      "cell_type": "code",
      "source": [
        "filtered_df"
      ],
      "metadata": {
        "colab": {
          "base_uri": "https://localhost:8080/",
          "height": 814
        },
        "id": "tgqp8tB3qv0q",
        "outputId": "1d148fde-cd1e-4539-b2ca-ad67102dd04b"
      },
      "execution_count": 530,
      "outputs": [
        {
          "output_type": "execute_result",
          "data": {
            "text/plain": [
              "                                        Title of Paper     Year  \\\n",
              "397                 Detecting man in the middle attack  2017-18   \n",
              "409   Comparitive study of Data Compression Techniques  2018-19   \n",
              "410                        Credit card Fraud detection  2018-19   \n",
              "422  Companies with dominance in their sector: A Pr...  2019-20   \n",
              "423   Comparative Study of Data Compression Techniques  2019-20   \n",
              "424  Containerzation and its efficiency on google c...  2019-20   \n",
              "425  Crime spot Detection for chain Snatching using...  2019-20   \n",
              "426  Deepfake: A Survey on Facial Forgery Technique...  2019-20   \n",
              "427  Detection of Motor Deficits in Children with A...  2019-20   \n",
              "429                                   IOT Smart Locker  2019-20   \n",
              "\n",
              "    Application Type Application Course Application Department  \\\n",
              "397          Student                 PG                    MCA   \n",
              "409          Student                 PG                    MCA   \n",
              "410          Student                 PG                    MCA   \n",
              "422          Student                 PG                    MCA   \n",
              "423          Student                 PG                    MCA   \n",
              "424          Student                 PG                    MCA   \n",
              "425          Student                 PG                    MCA   \n",
              "426          Student                 PG                    MCA   \n",
              "427          Student                 PG                    MCA   \n",
              "429          Student                 PG                    MCA   \n",
              "\n",
              "    Application Class               Guid 1 Name         Guid 2 Name  \\\n",
              "397              T.Y.  Prof. Nikhita Mangaonkar                 NaN   \n",
              "409              T.Y.         Dr.Pooja Raundale                 NaN   \n",
              "410              T.Y.                       NaN                 NaN   \n",
              "422              T.Y.      Prof. Sakina Salmani                 NaN   \n",
              "423              T.Y.         Dr.Pooja Raundale                 NaN   \n",
              "424              T.Y.  Prof. Nikhita Mangaonkar                 NaN   \n",
              "425              T.Y.      Prof. Sakina Salmani  Prof. Mayura Nagar   \n",
              "426              T.Y.      Prof. Sakina Salmani                 NaN   \n",
              "427              T.Y.        Dr. Pooja Raundale                 NaN   \n",
              "429              T.Y.         Dr. Arati Karande                 NaN   \n",
              "\n",
              "    Type of Paper Type of Publication Conference_Type  \n",
              "397       Journal       International            IEEE  \n",
              "409       Journal       International            IEEE  \n",
              "410    Conference       International            IEEE  \n",
              "422       Journal            National           Other  \n",
              "423       Journal            National           Other  \n",
              "424    Conference            National           Other  \n",
              "425    Conference            National           Other  \n",
              "426    Conference            National            IEEE  \n",
              "427    Conference       International            IEEE  \n",
              "429    Conference       International        Springer  "
            ],
            "text/html": [
              "\n",
              "  <div id=\"df-880f8c57-43fd-48ab-b4fe-6163fc3d94e9\" class=\"colab-df-container\">\n",
              "    <div>\n",
              "<style scoped>\n",
              "    .dataframe tbody tr th:only-of-type {\n",
              "        vertical-align: middle;\n",
              "    }\n",
              "\n",
              "    .dataframe tbody tr th {\n",
              "        vertical-align: top;\n",
              "    }\n",
              "\n",
              "    .dataframe thead th {\n",
              "        text-align: right;\n",
              "    }\n",
              "</style>\n",
              "<table border=\"1\" class=\"dataframe\">\n",
              "  <thead>\n",
              "    <tr style=\"text-align: right;\">\n",
              "      <th></th>\n",
              "      <th>Title of Paper</th>\n",
              "      <th>Year</th>\n",
              "      <th>Application Type</th>\n",
              "      <th>Application Course</th>\n",
              "      <th>Application Department</th>\n",
              "      <th>Application Class</th>\n",
              "      <th>Guid 1 Name</th>\n",
              "      <th>Guid 2 Name</th>\n",
              "      <th>Type of Paper</th>\n",
              "      <th>Type of Publication</th>\n",
              "      <th>Conference_Type</th>\n",
              "    </tr>\n",
              "  </thead>\n",
              "  <tbody>\n",
              "    <tr>\n",
              "      <th>397</th>\n",
              "      <td>Detecting man in the middle attack</td>\n",
              "      <td>2017-18</td>\n",
              "      <td>Student</td>\n",
              "      <td>PG</td>\n",
              "      <td>MCA</td>\n",
              "      <td>T.Y.</td>\n",
              "      <td>Prof. Nikhita Mangaonkar</td>\n",
              "      <td>NaN</td>\n",
              "      <td>Journal</td>\n",
              "      <td>International</td>\n",
              "      <td>IEEE</td>\n",
              "    </tr>\n",
              "    <tr>\n",
              "      <th>409</th>\n",
              "      <td>Comparitive study of Data Compression Techniques</td>\n",
              "      <td>2018-19</td>\n",
              "      <td>Student</td>\n",
              "      <td>PG</td>\n",
              "      <td>MCA</td>\n",
              "      <td>T.Y.</td>\n",
              "      <td>Dr.Pooja Raundale</td>\n",
              "      <td>NaN</td>\n",
              "      <td>Journal</td>\n",
              "      <td>International</td>\n",
              "      <td>IEEE</td>\n",
              "    </tr>\n",
              "    <tr>\n",
              "      <th>410</th>\n",
              "      <td>Credit card Fraud detection</td>\n",
              "      <td>2018-19</td>\n",
              "      <td>Student</td>\n",
              "      <td>PG</td>\n",
              "      <td>MCA</td>\n",
              "      <td>T.Y.</td>\n",
              "      <td>NaN</td>\n",
              "      <td>NaN</td>\n",
              "      <td>Conference</td>\n",
              "      <td>International</td>\n",
              "      <td>IEEE</td>\n",
              "    </tr>\n",
              "    <tr>\n",
              "      <th>422</th>\n",
              "      <td>Companies with dominance in their sector: A Pr...</td>\n",
              "      <td>2019-20</td>\n",
              "      <td>Student</td>\n",
              "      <td>PG</td>\n",
              "      <td>MCA</td>\n",
              "      <td>T.Y.</td>\n",
              "      <td>Prof. Sakina Salmani</td>\n",
              "      <td>NaN</td>\n",
              "      <td>Journal</td>\n",
              "      <td>National</td>\n",
              "      <td>Other</td>\n",
              "    </tr>\n",
              "    <tr>\n",
              "      <th>423</th>\n",
              "      <td>Comparative Study of Data Compression Techniques</td>\n",
              "      <td>2019-20</td>\n",
              "      <td>Student</td>\n",
              "      <td>PG</td>\n",
              "      <td>MCA</td>\n",
              "      <td>T.Y.</td>\n",
              "      <td>Dr.Pooja Raundale</td>\n",
              "      <td>NaN</td>\n",
              "      <td>Journal</td>\n",
              "      <td>National</td>\n",
              "      <td>Other</td>\n",
              "    </tr>\n",
              "    <tr>\n",
              "      <th>424</th>\n",
              "      <td>Containerzation and its efficiency on google c...</td>\n",
              "      <td>2019-20</td>\n",
              "      <td>Student</td>\n",
              "      <td>PG</td>\n",
              "      <td>MCA</td>\n",
              "      <td>T.Y.</td>\n",
              "      <td>Prof. Nikhita Mangaonkar</td>\n",
              "      <td>NaN</td>\n",
              "      <td>Conference</td>\n",
              "      <td>National</td>\n",
              "      <td>Other</td>\n",
              "    </tr>\n",
              "    <tr>\n",
              "      <th>425</th>\n",
              "      <td>Crime spot Detection for chain Snatching using...</td>\n",
              "      <td>2019-20</td>\n",
              "      <td>Student</td>\n",
              "      <td>PG</td>\n",
              "      <td>MCA</td>\n",
              "      <td>T.Y.</td>\n",
              "      <td>Prof. Sakina Salmani</td>\n",
              "      <td>Prof. Mayura Nagar</td>\n",
              "      <td>Conference</td>\n",
              "      <td>National</td>\n",
              "      <td>Other</td>\n",
              "    </tr>\n",
              "    <tr>\n",
              "      <th>426</th>\n",
              "      <td>Deepfake: A Survey on Facial Forgery Technique...</td>\n",
              "      <td>2019-20</td>\n",
              "      <td>Student</td>\n",
              "      <td>PG</td>\n",
              "      <td>MCA</td>\n",
              "      <td>T.Y.</td>\n",
              "      <td>Prof. Sakina Salmani</td>\n",
              "      <td>NaN</td>\n",
              "      <td>Conference</td>\n",
              "      <td>National</td>\n",
              "      <td>IEEE</td>\n",
              "    </tr>\n",
              "    <tr>\n",
              "      <th>427</th>\n",
              "      <td>Detection of Motor Deficits in Children with A...</td>\n",
              "      <td>2019-20</td>\n",
              "      <td>Student</td>\n",
              "      <td>PG</td>\n",
              "      <td>MCA</td>\n",
              "      <td>T.Y.</td>\n",
              "      <td>Dr. Pooja Raundale</td>\n",
              "      <td>NaN</td>\n",
              "      <td>Conference</td>\n",
              "      <td>International</td>\n",
              "      <td>IEEE</td>\n",
              "    </tr>\n",
              "    <tr>\n",
              "      <th>429</th>\n",
              "      <td>IOT Smart Locker</td>\n",
              "      <td>2019-20</td>\n",
              "      <td>Student</td>\n",
              "      <td>PG</td>\n",
              "      <td>MCA</td>\n",
              "      <td>T.Y.</td>\n",
              "      <td>Dr. Arati Karande</td>\n",
              "      <td>NaN</td>\n",
              "      <td>Conference</td>\n",
              "      <td>International</td>\n",
              "      <td>Springer</td>\n",
              "    </tr>\n",
              "  </tbody>\n",
              "</table>\n",
              "</div>\n",
              "    <div class=\"colab-df-buttons\">\n",
              "\n",
              "  <div class=\"colab-df-container\">\n",
              "    <button class=\"colab-df-convert\" onclick=\"convertToInteractive('df-880f8c57-43fd-48ab-b4fe-6163fc3d94e9')\"\n",
              "            title=\"Convert this dataframe to an interactive table.\"\n",
              "            style=\"display:none;\">\n",
              "\n",
              "  <svg xmlns=\"http://www.w3.org/2000/svg\" height=\"24px\" viewBox=\"0 -960 960 960\">\n",
              "    <path d=\"M120-120v-720h720v720H120Zm60-500h600v-160H180v160Zm220 220h160v-160H400v160Zm0 220h160v-160H400v160ZM180-400h160v-160H180v160Zm440 0h160v-160H620v160ZM180-180h160v-160H180v160Zm440 0h160v-160H620v160Z\"/>\n",
              "  </svg>\n",
              "    </button>\n",
              "\n",
              "  <style>\n",
              "    .colab-df-container {\n",
              "      display:flex;\n",
              "      gap: 12px;\n",
              "    }\n",
              "\n",
              "    .colab-df-convert {\n",
              "      background-color: #E8F0FE;\n",
              "      border: none;\n",
              "      border-radius: 50%;\n",
              "      cursor: pointer;\n",
              "      display: none;\n",
              "      fill: #1967D2;\n",
              "      height: 32px;\n",
              "      padding: 0 0 0 0;\n",
              "      width: 32px;\n",
              "    }\n",
              "\n",
              "    .colab-df-convert:hover {\n",
              "      background-color: #E2EBFA;\n",
              "      box-shadow: 0px 1px 2px rgba(60, 64, 67, 0.3), 0px 1px 3px 1px rgba(60, 64, 67, 0.15);\n",
              "      fill: #174EA6;\n",
              "    }\n",
              "\n",
              "    .colab-df-buttons div {\n",
              "      margin-bottom: 4px;\n",
              "    }\n",
              "\n",
              "    [theme=dark] .colab-df-convert {\n",
              "      background-color: #3B4455;\n",
              "      fill: #D2E3FC;\n",
              "    }\n",
              "\n",
              "    [theme=dark] .colab-df-convert:hover {\n",
              "      background-color: #434B5C;\n",
              "      box-shadow: 0px 1px 3px 1px rgba(0, 0, 0, 0.15);\n",
              "      filter: drop-shadow(0px 1px 2px rgba(0, 0, 0, 0.3));\n",
              "      fill: #FFFFFF;\n",
              "    }\n",
              "  </style>\n",
              "\n",
              "    <script>\n",
              "      const buttonEl =\n",
              "        document.querySelector('#df-880f8c57-43fd-48ab-b4fe-6163fc3d94e9 button.colab-df-convert');\n",
              "      buttonEl.style.display =\n",
              "        google.colab.kernel.accessAllowed ? 'block' : 'none';\n",
              "\n",
              "      async function convertToInteractive(key) {\n",
              "        const element = document.querySelector('#df-880f8c57-43fd-48ab-b4fe-6163fc3d94e9');\n",
              "        const dataTable =\n",
              "          await google.colab.kernel.invokeFunction('convertToInteractive',\n",
              "                                                    [key], {});\n",
              "        if (!dataTable) return;\n",
              "\n",
              "        const docLinkHtml = 'Like what you see? Visit the ' +\n",
              "          '<a target=\"_blank\" href=https://colab.research.google.com/notebooks/data_table.ipynb>data table notebook</a>'\n",
              "          + ' to learn more about interactive tables.';\n",
              "        element.innerHTML = '';\n",
              "        dataTable['output_type'] = 'display_data';\n",
              "        await google.colab.output.renderOutput(dataTable, element);\n",
              "        const docLink = document.createElement('div');\n",
              "        docLink.innerHTML = docLinkHtml;\n",
              "        element.appendChild(docLink);\n",
              "      }\n",
              "    </script>\n",
              "  </div>\n",
              "\n",
              "\n",
              "<div id=\"df-5bc8acce-ff7a-4b1a-8b81-fcf203639611\">\n",
              "  <button class=\"colab-df-quickchart\" onclick=\"quickchart('df-5bc8acce-ff7a-4b1a-8b81-fcf203639611')\"\n",
              "            title=\"Suggest charts\"\n",
              "            style=\"display:none;\">\n",
              "\n",
              "<svg xmlns=\"http://www.w3.org/2000/svg\" height=\"24px\"viewBox=\"0 0 24 24\"\n",
              "     width=\"24px\">\n",
              "    <g>\n",
              "        <path d=\"M19 3H5c-1.1 0-2 .9-2 2v14c0 1.1.9 2 2 2h14c1.1 0 2-.9 2-2V5c0-1.1-.9-2-2-2zM9 17H7v-7h2v7zm4 0h-2V7h2v10zm4 0h-2v-4h2v4z\"/>\n",
              "    </g>\n",
              "</svg>\n",
              "  </button>\n",
              "\n",
              "<style>\n",
              "  .colab-df-quickchart {\n",
              "      --bg-color: #E8F0FE;\n",
              "      --fill-color: #1967D2;\n",
              "      --hover-bg-color: #E2EBFA;\n",
              "      --hover-fill-color: #174EA6;\n",
              "      --disabled-fill-color: #AAA;\n",
              "      --disabled-bg-color: #DDD;\n",
              "  }\n",
              "\n",
              "  [theme=dark] .colab-df-quickchart {\n",
              "      --bg-color: #3B4455;\n",
              "      --fill-color: #D2E3FC;\n",
              "      --hover-bg-color: #434B5C;\n",
              "      --hover-fill-color: #FFFFFF;\n",
              "      --disabled-bg-color: #3B4455;\n",
              "      --disabled-fill-color: #666;\n",
              "  }\n",
              "\n",
              "  .colab-df-quickchart {\n",
              "    background-color: var(--bg-color);\n",
              "    border: none;\n",
              "    border-radius: 50%;\n",
              "    cursor: pointer;\n",
              "    display: none;\n",
              "    fill: var(--fill-color);\n",
              "    height: 32px;\n",
              "    padding: 0;\n",
              "    width: 32px;\n",
              "  }\n",
              "\n",
              "  .colab-df-quickchart:hover {\n",
              "    background-color: var(--hover-bg-color);\n",
              "    box-shadow: 0 1px 2px rgba(60, 64, 67, 0.3), 0 1px 3px 1px rgba(60, 64, 67, 0.15);\n",
              "    fill: var(--button-hover-fill-color);\n",
              "  }\n",
              "\n",
              "  .colab-df-quickchart-complete:disabled,\n",
              "  .colab-df-quickchart-complete:disabled:hover {\n",
              "    background-color: var(--disabled-bg-color);\n",
              "    fill: var(--disabled-fill-color);\n",
              "    box-shadow: none;\n",
              "  }\n",
              "\n",
              "  .colab-df-spinner {\n",
              "    border: 2px solid var(--fill-color);\n",
              "    border-color: transparent;\n",
              "    border-bottom-color: var(--fill-color);\n",
              "    animation:\n",
              "      spin 1s steps(1) infinite;\n",
              "  }\n",
              "\n",
              "  @keyframes spin {\n",
              "    0% {\n",
              "      border-color: transparent;\n",
              "      border-bottom-color: var(--fill-color);\n",
              "      border-left-color: var(--fill-color);\n",
              "    }\n",
              "    20% {\n",
              "      border-color: transparent;\n",
              "      border-left-color: var(--fill-color);\n",
              "      border-top-color: var(--fill-color);\n",
              "    }\n",
              "    30% {\n",
              "      border-color: transparent;\n",
              "      border-left-color: var(--fill-color);\n",
              "      border-top-color: var(--fill-color);\n",
              "      border-right-color: var(--fill-color);\n",
              "    }\n",
              "    40% {\n",
              "      border-color: transparent;\n",
              "      border-right-color: var(--fill-color);\n",
              "      border-top-color: var(--fill-color);\n",
              "    }\n",
              "    60% {\n",
              "      border-color: transparent;\n",
              "      border-right-color: var(--fill-color);\n",
              "    }\n",
              "    80% {\n",
              "      border-color: transparent;\n",
              "      border-right-color: var(--fill-color);\n",
              "      border-bottom-color: var(--fill-color);\n",
              "    }\n",
              "    90% {\n",
              "      border-color: transparent;\n",
              "      border-bottom-color: var(--fill-color);\n",
              "    }\n",
              "  }\n",
              "</style>\n",
              "\n",
              "  <script>\n",
              "    async function quickchart(key) {\n",
              "      const quickchartButtonEl =\n",
              "        document.querySelector('#' + key + ' button');\n",
              "      quickchartButtonEl.disabled = true;  // To prevent multiple clicks.\n",
              "      quickchartButtonEl.classList.add('colab-df-spinner');\n",
              "      try {\n",
              "        const charts = await google.colab.kernel.invokeFunction(\n",
              "            'suggestCharts', [key], {});\n",
              "      } catch (error) {\n",
              "        console.error('Error during call to suggestCharts:', error);\n",
              "      }\n",
              "      quickchartButtonEl.classList.remove('colab-df-spinner');\n",
              "      quickchartButtonEl.classList.add('colab-df-quickchart-complete');\n",
              "    }\n",
              "    (() => {\n",
              "      let quickchartButtonEl =\n",
              "        document.querySelector('#df-5bc8acce-ff7a-4b1a-8b81-fcf203639611 button');\n",
              "      quickchartButtonEl.style.display =\n",
              "        google.colab.kernel.accessAllowed ? 'block' : 'none';\n",
              "    })();\n",
              "  </script>\n",
              "</div>\n",
              "    </div>\n",
              "  </div>\n"
            ],
            "application/vnd.google.colaboratory.intrinsic+json": {
              "type": "dataframe",
              "variable_name": "filtered_df",
              "summary": "{\n  \"name\": \"filtered_df\",\n  \"rows\": 10,\n  \"fields\": [\n    {\n      \"column\": \"Title of Paper\",\n      \"properties\": {\n        \"dtype\": \"string\",\n        \"num_unique_values\": 10,\n        \"samples\": [\n          \"Detection of Motor Deficits in Children with Autism Spectrum Disorder using FTT\",\n          \"Comparitive study of Data Compression Techniques\",\n          \"Containerzation and its efficiency on google cloud platform\"\n        ],\n        \"semantic_type\": \"\",\n        \"description\": \"\"\n      }\n    },\n    {\n      \"column\": \"Year\",\n      \"properties\": {\n        \"dtype\": \"category\",\n        \"num_unique_values\": 3,\n        \"samples\": [\n          \"2017-18\",\n          \"2018-19\",\n          \"2019-20\"\n        ],\n        \"semantic_type\": \"\",\n        \"description\": \"\"\n      }\n    },\n    {\n      \"column\": \"Application Type\",\n      \"properties\": {\n        \"dtype\": \"category\",\n        \"num_unique_values\": 1,\n        \"samples\": [\n          \"Student\"\n        ],\n        \"semantic_type\": \"\",\n        \"description\": \"\"\n      }\n    },\n    {\n      \"column\": \"Application Course\",\n      \"properties\": {\n        \"dtype\": \"category\",\n        \"num_unique_values\": 1,\n        \"samples\": [\n          \"PG\"\n        ],\n        \"semantic_type\": \"\",\n        \"description\": \"\"\n      }\n    },\n    {\n      \"column\": \"Application Department\",\n      \"properties\": {\n        \"dtype\": \"category\",\n        \"num_unique_values\": 1,\n        \"samples\": [\n          \"MCA\"\n        ],\n        \"semantic_type\": \"\",\n        \"description\": \"\"\n      }\n    },\n    {\n      \"column\": \"Application Class\",\n      \"properties\": {\n        \"dtype\": \"category\",\n        \"num_unique_values\": 1,\n        \"samples\": [\n          \"T.Y.\"\n        ],\n        \"semantic_type\": \"\",\n        \"description\": \"\"\n      }\n    },\n    {\n      \"column\": \"Guid 1 Name\",\n      \"properties\": {\n        \"dtype\": \"string\",\n        \"num_unique_values\": 5,\n        \"samples\": [\n          \"Dr.Pooja Raundale\"\n        ],\n        \"semantic_type\": \"\",\n        \"description\": \"\"\n      }\n    },\n    {\n      \"column\": \"Guid 2 Name\",\n      \"properties\": {\n        \"dtype\": \"category\",\n        \"num_unique_values\": 1,\n        \"samples\": [\n          \"Prof. Mayura Nagar\"\n        ],\n        \"semantic_type\": \"\",\n        \"description\": \"\"\n      }\n    },\n    {\n      \"column\": \"Type of Paper\",\n      \"properties\": {\n        \"dtype\": \"category\",\n        \"num_unique_values\": 2,\n        \"samples\": [\n          \"Conference\"\n        ],\n        \"semantic_type\": \"\",\n        \"description\": \"\"\n      }\n    },\n    {\n      \"column\": \"Type of Publication\",\n      \"properties\": {\n        \"dtype\": \"category\",\n        \"num_unique_values\": 2,\n        \"samples\": [\n          \"National\"\n        ],\n        \"semantic_type\": \"\",\n        \"description\": \"\"\n      }\n    },\n    {\n      \"column\": \"Conference_Type\",\n      \"properties\": {\n        \"dtype\": \"category\",\n        \"num_unique_values\": 3,\n        \"samples\": [\n          \"IEEE\"\n        ],\n        \"semantic_type\": \"\",\n        \"description\": \"\"\n      }\n    }\n  ]\n}"
            }
          },
          "metadata": {},
          "execution_count": 530
        }
      ]
    },
    {
      "cell_type": "code",
      "source": [
        "# Replace 'T.Y.' with 'T.Y.M.C.A.' in 'Application Class' where 'MCA' is written in 'Application Department'\n",
        "df.loc[df['Application Department'] == 'MCA', 'Application Class'] = df.loc[df['Application Department'] == 'MCA', 'Application Class'].replace('T.Y.', 'S.Y.MCA')"
      ],
      "metadata": {
        "id": "O7QYaZthQQbm"
      },
      "execution_count": 531,
      "outputs": []
    },
    {
      "cell_type": "code",
      "source": [
        "# Assuming df is your DataFrame\n",
        "# Filter the DataFrame where Application Class is either \"F.E.\" or \"F.Y.\"\n",
        "filtered_df = df[(df['Application Class'] == 'S.Y.') | (df['Application Class'] == 'S.E.')]\n",
        "\n",
        "# Select only the 'Application Department' and 'Application Class' columns in the filtered DataFrame\n",
        "filtered_df = filtered_df[['Application Department', 'Application Class']]\n",
        "\n",
        "# Count the number of unique rows in the filtered DataFrame\n",
        "num_unique_rows = filtered_df.drop_duplicates()"
      ],
      "metadata": {
        "id": "i4Mjo34qReec"
      },
      "execution_count": 532,
      "outputs": []
    },
    {
      "cell_type": "code",
      "source": [
        "num_unique_rows"
      ],
      "metadata": {
        "colab": {
          "base_uri": "https://localhost:8080/",
          "height": 237
        },
        "id": "b3LBe8tiRebF",
        "outputId": "f9ed7db2-1704-421f-f529-33cffd574adc"
      },
      "execution_count": 533,
      "outputs": [
        {
          "output_type": "execute_result",
          "data": {
            "text/plain": [
              "    Application Department Application Class\n",
              "372                   ETRX              S.Y.\n",
              "521                   EXTC              S.E.\n",
              "550                   EXTC              S.Y.\n",
              "621                  COMPS              S.E.\n",
              "677                   ETRX              S.E.\n",
              "948                    MCA              S.Y."
            ],
            "text/html": [
              "\n",
              "  <div id=\"df-32a6c0b2-6a3a-4421-9d71-a64070a2ca28\" class=\"colab-df-container\">\n",
              "    <div>\n",
              "<style scoped>\n",
              "    .dataframe tbody tr th:only-of-type {\n",
              "        vertical-align: middle;\n",
              "    }\n",
              "\n",
              "    .dataframe tbody tr th {\n",
              "        vertical-align: top;\n",
              "    }\n",
              "\n",
              "    .dataframe thead th {\n",
              "        text-align: right;\n",
              "    }\n",
              "</style>\n",
              "<table border=\"1\" class=\"dataframe\">\n",
              "  <thead>\n",
              "    <tr style=\"text-align: right;\">\n",
              "      <th></th>\n",
              "      <th>Application Department</th>\n",
              "      <th>Application Class</th>\n",
              "    </tr>\n",
              "  </thead>\n",
              "  <tbody>\n",
              "    <tr>\n",
              "      <th>372</th>\n",
              "      <td>ETRX</td>\n",
              "      <td>S.Y.</td>\n",
              "    </tr>\n",
              "    <tr>\n",
              "      <th>521</th>\n",
              "      <td>EXTC</td>\n",
              "      <td>S.E.</td>\n",
              "    </tr>\n",
              "    <tr>\n",
              "      <th>550</th>\n",
              "      <td>EXTC</td>\n",
              "      <td>S.Y.</td>\n",
              "    </tr>\n",
              "    <tr>\n",
              "      <th>621</th>\n",
              "      <td>COMPS</td>\n",
              "      <td>S.E.</td>\n",
              "    </tr>\n",
              "    <tr>\n",
              "      <th>677</th>\n",
              "      <td>ETRX</td>\n",
              "      <td>S.E.</td>\n",
              "    </tr>\n",
              "    <tr>\n",
              "      <th>948</th>\n",
              "      <td>MCA</td>\n",
              "      <td>S.Y.</td>\n",
              "    </tr>\n",
              "  </tbody>\n",
              "</table>\n",
              "</div>\n",
              "    <div class=\"colab-df-buttons\">\n",
              "\n",
              "  <div class=\"colab-df-container\">\n",
              "    <button class=\"colab-df-convert\" onclick=\"convertToInteractive('df-32a6c0b2-6a3a-4421-9d71-a64070a2ca28')\"\n",
              "            title=\"Convert this dataframe to an interactive table.\"\n",
              "            style=\"display:none;\">\n",
              "\n",
              "  <svg xmlns=\"http://www.w3.org/2000/svg\" height=\"24px\" viewBox=\"0 -960 960 960\">\n",
              "    <path d=\"M120-120v-720h720v720H120Zm60-500h600v-160H180v160Zm220 220h160v-160H400v160Zm0 220h160v-160H400v160ZM180-400h160v-160H180v160Zm440 0h160v-160H620v160ZM180-180h160v-160H180v160Zm440 0h160v-160H620v160Z\"/>\n",
              "  </svg>\n",
              "    </button>\n",
              "\n",
              "  <style>\n",
              "    .colab-df-container {\n",
              "      display:flex;\n",
              "      gap: 12px;\n",
              "    }\n",
              "\n",
              "    .colab-df-convert {\n",
              "      background-color: #E8F0FE;\n",
              "      border: none;\n",
              "      border-radius: 50%;\n",
              "      cursor: pointer;\n",
              "      display: none;\n",
              "      fill: #1967D2;\n",
              "      height: 32px;\n",
              "      padding: 0 0 0 0;\n",
              "      width: 32px;\n",
              "    }\n",
              "\n",
              "    .colab-df-convert:hover {\n",
              "      background-color: #E2EBFA;\n",
              "      box-shadow: 0px 1px 2px rgba(60, 64, 67, 0.3), 0px 1px 3px 1px rgba(60, 64, 67, 0.15);\n",
              "      fill: #174EA6;\n",
              "    }\n",
              "\n",
              "    .colab-df-buttons div {\n",
              "      margin-bottom: 4px;\n",
              "    }\n",
              "\n",
              "    [theme=dark] .colab-df-convert {\n",
              "      background-color: #3B4455;\n",
              "      fill: #D2E3FC;\n",
              "    }\n",
              "\n",
              "    [theme=dark] .colab-df-convert:hover {\n",
              "      background-color: #434B5C;\n",
              "      box-shadow: 0px 1px 3px 1px rgba(0, 0, 0, 0.15);\n",
              "      filter: drop-shadow(0px 1px 2px rgba(0, 0, 0, 0.3));\n",
              "      fill: #FFFFFF;\n",
              "    }\n",
              "  </style>\n",
              "\n",
              "    <script>\n",
              "      const buttonEl =\n",
              "        document.querySelector('#df-32a6c0b2-6a3a-4421-9d71-a64070a2ca28 button.colab-df-convert');\n",
              "      buttonEl.style.display =\n",
              "        google.colab.kernel.accessAllowed ? 'block' : 'none';\n",
              "\n",
              "      async function convertToInteractive(key) {\n",
              "        const element = document.querySelector('#df-32a6c0b2-6a3a-4421-9d71-a64070a2ca28');\n",
              "        const dataTable =\n",
              "          await google.colab.kernel.invokeFunction('convertToInteractive',\n",
              "                                                    [key], {});\n",
              "        if (!dataTable) return;\n",
              "\n",
              "        const docLinkHtml = 'Like what you see? Visit the ' +\n",
              "          '<a target=\"_blank\" href=https://colab.research.google.com/notebooks/data_table.ipynb>data table notebook</a>'\n",
              "          + ' to learn more about interactive tables.';\n",
              "        element.innerHTML = '';\n",
              "        dataTable['output_type'] = 'display_data';\n",
              "        await google.colab.output.renderOutput(dataTable, element);\n",
              "        const docLink = document.createElement('div');\n",
              "        docLink.innerHTML = docLinkHtml;\n",
              "        element.appendChild(docLink);\n",
              "      }\n",
              "    </script>\n",
              "  </div>\n",
              "\n",
              "\n",
              "<div id=\"df-64079cc3-09d1-405b-ae86-1f8d69034b4d\">\n",
              "  <button class=\"colab-df-quickchart\" onclick=\"quickchart('df-64079cc3-09d1-405b-ae86-1f8d69034b4d')\"\n",
              "            title=\"Suggest charts\"\n",
              "            style=\"display:none;\">\n",
              "\n",
              "<svg xmlns=\"http://www.w3.org/2000/svg\" height=\"24px\"viewBox=\"0 0 24 24\"\n",
              "     width=\"24px\">\n",
              "    <g>\n",
              "        <path d=\"M19 3H5c-1.1 0-2 .9-2 2v14c0 1.1.9 2 2 2h14c1.1 0 2-.9 2-2V5c0-1.1-.9-2-2-2zM9 17H7v-7h2v7zm4 0h-2V7h2v10zm4 0h-2v-4h2v4z\"/>\n",
              "    </g>\n",
              "</svg>\n",
              "  </button>\n",
              "\n",
              "<style>\n",
              "  .colab-df-quickchart {\n",
              "      --bg-color: #E8F0FE;\n",
              "      --fill-color: #1967D2;\n",
              "      --hover-bg-color: #E2EBFA;\n",
              "      --hover-fill-color: #174EA6;\n",
              "      --disabled-fill-color: #AAA;\n",
              "      --disabled-bg-color: #DDD;\n",
              "  }\n",
              "\n",
              "  [theme=dark] .colab-df-quickchart {\n",
              "      --bg-color: #3B4455;\n",
              "      --fill-color: #D2E3FC;\n",
              "      --hover-bg-color: #434B5C;\n",
              "      --hover-fill-color: #FFFFFF;\n",
              "      --disabled-bg-color: #3B4455;\n",
              "      --disabled-fill-color: #666;\n",
              "  }\n",
              "\n",
              "  .colab-df-quickchart {\n",
              "    background-color: var(--bg-color);\n",
              "    border: none;\n",
              "    border-radius: 50%;\n",
              "    cursor: pointer;\n",
              "    display: none;\n",
              "    fill: var(--fill-color);\n",
              "    height: 32px;\n",
              "    padding: 0;\n",
              "    width: 32px;\n",
              "  }\n",
              "\n",
              "  .colab-df-quickchart:hover {\n",
              "    background-color: var(--hover-bg-color);\n",
              "    box-shadow: 0 1px 2px rgba(60, 64, 67, 0.3), 0 1px 3px 1px rgba(60, 64, 67, 0.15);\n",
              "    fill: var(--button-hover-fill-color);\n",
              "  }\n",
              "\n",
              "  .colab-df-quickchart-complete:disabled,\n",
              "  .colab-df-quickchart-complete:disabled:hover {\n",
              "    background-color: var(--disabled-bg-color);\n",
              "    fill: var(--disabled-fill-color);\n",
              "    box-shadow: none;\n",
              "  }\n",
              "\n",
              "  .colab-df-spinner {\n",
              "    border: 2px solid var(--fill-color);\n",
              "    border-color: transparent;\n",
              "    border-bottom-color: var(--fill-color);\n",
              "    animation:\n",
              "      spin 1s steps(1) infinite;\n",
              "  }\n",
              "\n",
              "  @keyframes spin {\n",
              "    0% {\n",
              "      border-color: transparent;\n",
              "      border-bottom-color: var(--fill-color);\n",
              "      border-left-color: var(--fill-color);\n",
              "    }\n",
              "    20% {\n",
              "      border-color: transparent;\n",
              "      border-left-color: var(--fill-color);\n",
              "      border-top-color: var(--fill-color);\n",
              "    }\n",
              "    30% {\n",
              "      border-color: transparent;\n",
              "      border-left-color: var(--fill-color);\n",
              "      border-top-color: var(--fill-color);\n",
              "      border-right-color: var(--fill-color);\n",
              "    }\n",
              "    40% {\n",
              "      border-color: transparent;\n",
              "      border-right-color: var(--fill-color);\n",
              "      border-top-color: var(--fill-color);\n",
              "    }\n",
              "    60% {\n",
              "      border-color: transparent;\n",
              "      border-right-color: var(--fill-color);\n",
              "    }\n",
              "    80% {\n",
              "      border-color: transparent;\n",
              "      border-right-color: var(--fill-color);\n",
              "      border-bottom-color: var(--fill-color);\n",
              "    }\n",
              "    90% {\n",
              "      border-color: transparent;\n",
              "      border-bottom-color: var(--fill-color);\n",
              "    }\n",
              "  }\n",
              "</style>\n",
              "\n",
              "  <script>\n",
              "    async function quickchart(key) {\n",
              "      const quickchartButtonEl =\n",
              "        document.querySelector('#' + key + ' button');\n",
              "      quickchartButtonEl.disabled = true;  // To prevent multiple clicks.\n",
              "      quickchartButtonEl.classList.add('colab-df-spinner');\n",
              "      try {\n",
              "        const charts = await google.colab.kernel.invokeFunction(\n",
              "            'suggestCharts', [key], {});\n",
              "      } catch (error) {\n",
              "        console.error('Error during call to suggestCharts:', error);\n",
              "      }\n",
              "      quickchartButtonEl.classList.remove('colab-df-spinner');\n",
              "      quickchartButtonEl.classList.add('colab-df-quickchart-complete');\n",
              "    }\n",
              "    (() => {\n",
              "      let quickchartButtonEl =\n",
              "        document.querySelector('#df-64079cc3-09d1-405b-ae86-1f8d69034b4d button');\n",
              "      quickchartButtonEl.style.display =\n",
              "        google.colab.kernel.accessAllowed ? 'block' : 'none';\n",
              "    })();\n",
              "  </script>\n",
              "</div>\n",
              "    </div>\n",
              "  </div>\n"
            ],
            "application/vnd.google.colaboratory.intrinsic+json": {
              "type": "dataframe",
              "variable_name": "num_unique_rows",
              "summary": "{\n  \"name\": \"num_unique_rows\",\n  \"rows\": 6,\n  \"fields\": [\n    {\n      \"column\": \"Application Department\",\n      \"properties\": {\n        \"dtype\": \"string\",\n        \"num_unique_values\": 4,\n        \"samples\": [\n          \"EXTC\",\n          \"MCA\",\n          \"ETRX\"\n        ],\n        \"semantic_type\": \"\",\n        \"description\": \"\"\n      }\n    },\n    {\n      \"column\": \"Application Class\",\n      \"properties\": {\n        \"dtype\": \"category\",\n        \"num_unique_values\": 2,\n        \"samples\": [\n          \"S.E.\",\n          \"S.Y.\"\n        ],\n        \"semantic_type\": \"\",\n        \"description\": \"\"\n      }\n    }\n  ]\n}"
            }
          },
          "metadata": {},
          "execution_count": 533
        }
      ]
    },
    {
      "cell_type": "code",
      "source": [
        "# Specify the column and the dictionary of old and new values\n",
        "column_to_rename_values = {'S.E.': 'S.Y.'}\n",
        "\n",
        "# Rename values in the specified column\n",
        "df['Application Class'] = df['Application Class'].replace(column_to_rename_values)"
      ],
      "metadata": {
        "id": "JG3Q8yfRReYi"
      },
      "execution_count": 534,
      "outputs": []
    },
    {
      "cell_type": "code",
      "source": [
        "# Replace 'T.Y.' with 'T.Y.M.C.A.' in 'Application Class' where 'MCA' is written in 'Application Department'\n",
        "df.loc[df['Application Department'] == 'MCA', 'Application Class'] = df.loc[df['Application Department'] == 'MCA', 'Application Class'].replace('S.Y.', 'S.Y.MCA')"
      ],
      "metadata": {
        "id": "nzyctIH2wvWf"
      },
      "execution_count": 535,
      "outputs": []
    },
    {
      "cell_type": "code",
      "source": [
        "df['Application Class'].unique()"
      ],
      "metadata": {
        "colab": {
          "base_uri": "https://localhost:8080/"
        },
        "id": "KmxW04qwp22l",
        "outputId": "f2234be1-bf30-4bb9-d8cd-1d81277ace75"
      },
      "execution_count": 536,
      "outputs": [
        {
          "output_type": "execute_result",
          "data": {
            "text/plain": [
              "array(['F.Y.', 'Student', 'B.E.', 'S.Y.MTech', 'T.Y.MCA', 'Faculty',\n",
              "       'PhD', 'T.Y.', 'M.E.', 'S.Y.', 'S.Y.MCA', 'Research Scholar',\n",
              "       'F.Y.MTech', 'F.Y.MCA'], dtype=object)"
            ]
          },
          "metadata": {},
          "execution_count": 536
        }
      ]
    },
    {
      "cell_type": "code",
      "source": [
        "df['Guid 1 Name'].unique()"
      ],
      "metadata": {
        "colab": {
          "base_uri": "https://localhost:8080/"
        },
        "id": "34WWMquLReQp",
        "outputId": "90c6e900-50fb-44dc-e0b3-7e615e81e21d"
      },
      "execution_count": 537,
      "outputs": [
        {
          "output_type": "execute_result",
          "data": {
            "text/plain": [
              "array(['Dr. Y. S. Rao', 'Prof. Manisha Bansode', 'Dr. Sudhir Dhage',\n",
              "       'Prof. Manish Parmar', 'Dr. Reena Sonkusare',\n",
              "       'Prof. Nataasha Raul', 'Prof. Anand Mane', 'Dr. Anant Nimkar',\n",
              "       'Prof. Dayanand Ambawade', 'Prof. Rupesh Bhoir',\n",
              "       'Prof. Jyoti Ramteke', 'Prof. Anand Godbole', 'Dr. D. R. Kalbande',\n",
              "       'Prof. Kiran Gawande', 'Dr.Prachi Gharpure', 'Prof. Reeta Koshy',\n",
              "       'Prof. Surekha Dholay', 'Dr. Surendra Rathod', 'Dr.Pooja Raundale',\n",
              "       'Dr. Prachi Gharpure', 'Prof. Jignesh Sisodia', 'A. V. Salunke',\n",
              "       'Dr. Radha Shankarmani', 'Dr. Preeti Jani', 'Prof. Pramod Bide',\n",
              "       'Dr. Deepak Karia', 'Prof. Abhijeet Salunke', nan,\n",
              "       'Prof. Amol Deshpande', 'Prof. Sunil Ghane', 'Prof. P. V. Kasambe',\n",
              "       'Prof. Varsha Hole', 'Prof. Swapnali Kurhade',\n",
              "       'Prof. Sheetal Chaudhari', 'Prof. Kailas Devadkar',\n",
              "       'Prof. Rupali Sawant', 'Prof. Renuka Pawar', 'Prof. Aparna Halbe',\n",
              "       'Dr. Prasenjit Bhavathankar', 'Prof. Nikahat Mulla',\n",
              "       'Dr. Rajendra Sutar', 'Prof. G. T. Haldankar',\n",
              "       'Prof. Kiran Talele', 'Dr. Kushal Tuckley', 'Prof. Payal Shah', 0,\n",
              "       'Prof. Narendra Bhagat', 'Prof. Prashant Kasambe',\n",
              "       'Prof. Priya Chimurkar', 'Prof. Najib Ghatte',\n",
              "       'Prof. Manisha bansode', 'Prof. Priya Deshpande',\n",
              "       'Dr. Uday Pandit Khot', 'Prof. Sakina Salmani',\n",
              "       'Prof. Harshil Kanakia', 'Prof. Nikhita Mangaonkar',\n",
              "       'Prof. Pallavi Thakur', 'Dr. Neeti Desai', 'Prof. Taruna Sharma',\n",
              "       'Dr. Pooja Raundale', 'Dr. Arati Karande', 'Prof. Mayura Nagar',\n",
              "       'Dr. Mishra B.K', 'Dr. Sukanya Kulkarni', 'Prof. Vijaya Kamble',\n",
              "       'Dr. B. K. Mishra', 'Prof. Arti Hadap', 'Dr. Preeti jani',\n",
              "       'Prof. Milind Paraye', 'Dr. Rajendra Sawant',\n",
              "       'Dr. Sujata Kulkarni', 'Prof.Pallavi Malame', 'Dr. Amol Despande',\n",
              "       'Prof Manish Parmar', 'Prof Dayanand Ambawade',\n",
              "       'Dr. Amol S Deshpande', 'Prof. Dayanand D.Ambawade',\n",
              "       'Prof. Kailas K. Devadkar', 'Dr. Radha Shakarmani',\n",
              "       'Prof. Pooja Raundale', 'Dr. Anant V. Nimkar',\n",
              "       'Dr. Sudhir Namdeorao Dhage', 'Prof. K. T. Talele',\n",
              "       'Dr. Dhananjay Kalbande', 'Dr. Preetida Vinayakray Jani',\n",
              "       'Dr. Deepak C Karia', 'Prof. Sunil B. Ghane',\n",
              "       'Dr. Sujata S Kulkarni', 'Prof. Aarti Karande',\n",
              "       'Prof. Pallavi Malame', 'Dr. S.S. Rathod',\n",
              "       'Prof. Manish M. Parmar', 'Prof. Anand D. Mane', 'Dr. Y.S. Rao',\n",
              "       'Dr. Rita Das', 'Prof. Prachi Dalvi', 'Prof. N.A. Bhagat',\n",
              "       'Dr. Sukanya A. Kulkarni', 'Dr. Rajendra R Sawant'], dtype=object)"
            ]
          },
          "metadata": {},
          "execution_count": 537
        }
      ]
    },
    {
      "cell_type": "code",
      "source": [
        "# Convert the 'Guid 1 Name' column to strings\n",
        "df['Guid 1 Name'] = df['Guid 1 Name'].astype(str)\n",
        "\n",
        "# Get the unique values of 'Guid 1 Name'\n",
        "unique_values = df['Guid 1 Name'].unique()\n",
        "\n",
        "# Define a custom sorting function\n",
        "def custom_sort(val):\n",
        "    # Split the string into parts before and after the last letter\n",
        "    parts = str(val).rsplit(maxsplit=1)\n",
        "    if len(parts) == 1:\n",
        "        return ('', parts[0])\n",
        "    prefix, last_letter = parts\n",
        "    # Sort by last letter first, then by the prefix\n",
        "    return (last_letter, prefix)\n",
        "\n",
        "# Sort the unique values using the custom sorting function\n",
        "sorted_unique_values = sorted(unique_values, key=custom_sort)\n",
        "\n",
        "print(sorted_unique_values)"
      ],
      "metadata": {
        "colab": {
          "base_uri": "https://localhost:8080/"
        },
        "id": "F7f7ioCYReN9",
        "outputId": "58775afc-7e31-4993-9632-ff003baaf09f"
      },
      "execution_count": 538,
      "outputs": [
        {
          "output_type": "stream",
          "name": "stdout",
          "text": [
            "['0', 'nan', 'Prof Dayanand Ambawade', 'Prof. Dayanand Ambawade', 'Dr. Mishra B.K', 'Prof. Manisha Bansode', 'Prof. N.A. Bhagat', 'Prof. Narendra Bhagat', 'Dr. Prasenjit Bhavathankar', 'Prof. Rupesh Bhoir', 'Prof. Pramod Bide', 'Prof. Sheetal Chaudhari', 'Prof. Priya Chimurkar', 'Prof. Dayanand D.Ambawade', 'Prof. Prachi Dalvi', 'Dr. Rita Das', 'Dr. Neeti Desai', 'Dr. Amol S Deshpande', 'Prof. Amol Deshpande', 'Prof. Priya Deshpande', 'Dr. Amol Despande', 'Prof. Kailas Devadkar', 'Prof. Kailas K. Devadkar', 'Dr. Sudhir Dhage', 'Dr. Sudhir Namdeorao Dhage', 'Prof. Surekha Dholay', 'Prof. Kiran Gawande', 'Prof. Sunil Ghane', 'Prof. Sunil B. Ghane', 'Dr. Prachi Gharpure', 'Dr.Prachi Gharpure', 'Prof. Najib Ghatte', 'Prof. Anand Godbole', 'Prof. Arti Hadap', 'Prof. Aparna Halbe', 'Prof. G. T. Haldankar', 'Prof. Varsha Hole', 'Dr. Preeti Jani', 'Dr. Preetida Vinayakray Jani', 'Dr. D. R. Kalbande', 'Dr. Dhananjay Kalbande', 'Prof. Vijaya Kamble', 'Prof. Harshil Kanakia', 'Dr. Arati Karande', 'Prof. Aarti Karande', 'Dr. Deepak Karia', 'Dr. Deepak C Karia', 'Prof. P. V. Kasambe', 'Prof. Prashant Kasambe', 'Dr. Uday Pandit Khot', 'Prof. Reeta Koshy', 'Dr. Sujata Kulkarni', 'Dr. Sujata S Kulkarni', 'Dr. Sukanya Kulkarni', 'Dr. Sukanya A. Kulkarni', 'Prof. Swapnali Kurhade', 'Prof. Pallavi Malame', 'Prof.Pallavi Malame', 'Prof. Anand Mane', 'Prof. Anand D. Mane', 'Prof. Nikhita Mangaonkar', 'Dr. B. K. Mishra', 'Prof. Nikahat Mulla', 'Prof. Mayura Nagar', 'Dr. Anant Nimkar', 'Dr. Anant V. Nimkar', 'Prof. Milind Paraye', 'Prof Manish Parmar', 'Prof. Manish Parmar', 'Prof. Manish M. Parmar', 'Prof. Renuka Pawar', 'Prof. Jyoti Ramteke', 'Dr. Y. S. Rao', 'Dr. Y.S. Rao', 'Dr. S.S. Rathod', 'Dr. Surendra Rathod', 'Prof. Nataasha Raul', 'Dr. Pooja Raundale', 'Dr.Pooja Raundale', 'Prof. Pooja Raundale', 'Prof. Sakina Salmani', 'A. V. Salunke', 'Prof. Abhijeet Salunke', 'Dr. Rajendra Sawant', 'Dr. Rajendra R Sawant', 'Prof. Rupali Sawant', 'Prof. Payal Shah', 'Dr. Radha Shakarmani', 'Dr. Radha Shankarmani', 'Prof. Taruna Sharma', 'Prof. Jignesh Sisodia', 'Dr. Reena Sonkusare', 'Dr. Rajendra Sutar', 'Prof. K. T. Talele', 'Prof. Kiran Talele', 'Prof. Pallavi Thakur', 'Dr. Kushal Tuckley', 'Prof. Manisha bansode', 'Dr. Preeti jani']\n"
          ]
        }
      ]
    },
    {
      "cell_type": "code",
      "source": [
        "# Convert the 'Guid 2 Name' column to strings\n",
        "df['Guid 2 Name'] = df['Guid 2 Name'].astype(str)\n",
        "\n",
        "# Get the unique values of 'Guid 2 Name'\n",
        "unique_values = df['Guid 2 Name'].unique()\n",
        "\n",
        "# Define a custom sorting function\n",
        "def custom_sort(val):\n",
        "    # Split the string into parts before and after the last letter\n",
        "    parts = str(val).rsplit(maxsplit=1)\n",
        "    if len(parts) == 1:\n",
        "        return ('', parts[0])\n",
        "    prefix, last_letter = parts\n",
        "    # Sort by last letter first, then by the prefix\n",
        "    return (last_letter, prefix)\n",
        "\n",
        "# Sort the unique values using the custom sorting function\n",
        "sorted_unique_values = sorted(unique_values, key=custom_sort)\n",
        "\n",
        "print(sorted_unique_values)"
      ],
      "metadata": {
        "colab": {
          "base_uri": "https://localhost:8080/"
        },
        "id": "tX-OCKFup_4a",
        "outputId": "6424c451-87f3-4fbe-bf0c-a81d2c63f476"
      },
      "execution_count": 539,
      "outputs": [
        {
          "output_type": "stream",
          "name": "stdout",
          "text": [
            "['nan', 'Prof. Dayanand Ambawade', 'Prof. Nida Bakereywala', 'Mr. Sarvesh Bedekar', 'Prof. N.A. Bhagat', 'Dr. Prasenjit Bhavathankar', 'D. V. Bhoir', 'Prof. Pramod Bide', 'Prof. Sheetal Chaudhari', 'Priya Chimurkar', 'Prof. Dayanand D.Ambawade', 'Dr. Rita Das', 'Dr. Amol S Deshpande', 'Prof. Kailas K. Devadkar', 'Dr. Sudhir N. Dhage', 'Dr. Sudhir Namdeorao Dhage', 'Prof. Surekha Dholay', 'Prof. Kiran Gawande', 'Prof. Sunil Ghane', 'Prof. Sunil B. Ghane', 'Dr. Prachi Gharpure', 'Prof. Najib Ghatte', 'Prof. Anand Godbole', 'Prof. Aparna Halbe', 'Prof. G. T. Haldankar', 'Prof. Varsha Hole', 'Yogesh Jadhav', 'Dr.Mithali Jage', 'Dr. Dhananjay Kalbande', 'Prof. Vijaya Kamble', 'Prof. Harshil Kanakia', 'Prof. Aarti Karande', 'Dr. Deepak Karia', 'Dr. Deepak C Karia', 'Prof. P. V. Kasambe', 'Prof.P. V. Kasambe', 'Prof. Kaisar Katchi', 'Dr. Uday Pandit Khot', 'Prof. Reeta Koshy', 'Dr. Sujata S Kulkarni', 'Dr. Reena Kumbhare', 'Prof. Swapnali Kurhade', 'Prof Pallavi Malame', 'Prof. Anand D. Mane', 'Prof. Nikhita Mangaonkar', 'Prof. Nikahat Mulla', 'Prof. Mayura Nagar', 'Prof. Meghana Naik', 'Dr. Anant Nimkar', 'Dr. Anant V. Nimkar', 'Prof. Manish M. Parmar', 'Prof. Renuka Pawar', 'Prof. Jyoti Ramteke', 'Dr. Y.S. Rao', 'Dr. S.S. Rathod', 'Dr. Surendra Rathod', 'Dr. Surendra S. Rathod', 'Prof. Nataasha Raul', 'Dr. Pooja Raundale', 'Prof. Pooja Raundale', 'Dr. K.T.V. Reddy', 'Dr.K T V Reddy', 'K.T.V. Reddy', 'Prof. Sakina Salmani', 'Prof. Abhijeet Salunke', 'Dr. Rajendra R Sawant', 'Prof. Rupali Sawant', 'Dr. Payal Hitesh Shah', 'Dr. Radha Shakarmani', 'Dr. Avinash Sharma', 'Dr. Reena Sonkusare', 'Dr. Rajendra Sutar', 'Prof. K. T. Talele', 'Prof. K.T.V. Talele', 'Prof. Kiran Talele', 'Prof. Pallavi Thakur', 'Prof. Ananthalakshmi Venkatesh', 'Prof. Sneha A. Weakey']\n"
          ]
        }
      ]
    },
    {
      "cell_type": "code",
      "source": [
        "# Specify the column and the dictionary of old and new values\n",
        "column_to_rename_values = {'Prof Dayanand Ambawade': 'Prof. Dayanand Ambawade', 'Prof. N.A. Bhagat': 'Prof. Narendra Bhagat', 'Prof. Dayanand D.Ambawade': 'Prof. Dayanand Ambawade', 'Prof. Amol Deshpande': 'Dr. Amol S Deshpande', 'Dr. Amol Despande': 'Dr. Amol S Deshpande', 'Prof. Kailas K. Devadkar': 'Prof. Kailas Devadkar', 'Dr. Sudhir Dhage': 'Dr. Sudhir Namdeorao Dhage', 'Prof. Sunil Ghane': 'Prof. Sunil B. Ghane', 'Dr.Prachi Gharpure': 'Dr. Prachi Gharpure', 'Dr. Dhananjay Kalbande': 'Dr. D. R. Kalbande', 'Prof. Arati Karande': 'Dr. Aarti Karande', 'Dr. Arati Karande': 'Dr. Aarti Karande', 'Prof. Aarti Karande': 'Dr. Aarti Karande', 'Dr. Y. S. Rao': 'Dr. Y.S. Rao','Dr. Deepak Karia': 'Dr. Deepak C Karia', 'Prof. Prashant Kasambe': 'Prof. P. V. Kasambe', 'Dr. Sujata Kulkarni': 'Dr. Sujata S Kulkarni', 'Dr. Sukanya Kulkarni': 'Dr. Sukanya A. Kulkarni', 'Prof.Pallavi Malame': 'Prof. Pallavi Malame', 'Prof. Anand Mane': 'Prof. Anand D. Mane', 'Dr. Mishra B.K': 'Dr. B. K. Mishra', 'Dr. Anant Nimkar': 'Dr. Anant V. Nimkar', 'Prof Manish Parmar': 'Prof. Manish M. Parmar', 'Prof. Manish Parmar': 'Prof. Manish M. Parmar', 'Dr. Surendra Rathod': 'Dr. Surendra S. Rathod', 'Prof. Pooja Raundale': 'Dr. Pooja Raundale', 'Dr.Pooja Raundale': 'Dr. Pooja Raundale', 'A. V. Salunke': 'Prof. Abhijeet Salunke', 'Dr. Rajendra Sawant': 'Dr. Rajendra R Sawant', 'Dr. Radha Shakarmani': 'Dr. Radha Shankarmani', 'Prof. K. T. Talele': 'Prof. Kiran Talele', 'Prof. Manisha bansode': 'Prof. Manisha Bansode', 'Dr. Preeti jani': 'Dr. Preetida Vinayakray Jani', 'Dr. Preeti Jani': 'Dr. Preetida Vinayakray Jani', 'Dr. S.S. Rathod': 'Dr. Surendra S. Rathod', 'Prof. Payal Shah': 'Dr. Payal Hitesh Shah'}\n",
        "# Rename values in the specified column\n",
        "df['Guid 1 Name'] = df['Guid 1 Name'].replace(column_to_rename_values)"
      ],
      "metadata": {
        "id": "4rSXbWfbRhF6"
      },
      "execution_count": 540,
      "outputs": []
    },
    {
      "cell_type": "code",
      "source": [
        "# Specify the column and the dictionary of old and new values\n",
        "column_to_rename_values = {'Prof. N.A. Bhagat': 'Prof. Narendra Bhagat', 'Prof. Dayanand D.Ambawade': 'Prof. Dayanand Ambawade', 'Prof. Kailas K. Devadkar': 'Prof. Kailas Devadkar','Prof. Sunil Ghane': 'Prof. Sunil B. Ghane', 'Dr. Dhananjay Kalbande': 'Dr. D. R. Kalbande', 'Dr. Deepak Karia': 'Dr. Deepak C Karia', 'Dr. Anant Nimkar': 'Dr. Anant V. Nimkar', 'Dr. Surendra Rathod': 'Dr. Surendra S. Rathod', 'Prof. Pooja Raundale': 'Dr. Pooja Raundale', 'Dr. Radha Shakarmani': 'Dr. Radha Shankarmani', 'Prof. K. T. Talele': 'Prof. Kiran Talele', 'Dr. Preeti jani': 'Dr. Preetida Vinayakray Jani', 'Dr. Preeti Jani': 'Dr. Preetida Vinayakray Jani', 'Dr. Sudhir N. Dhage': 'Dr. Sudhir Namdeorao Dhage', 'Prof.P. V. Kasambe': 'Prof. P. V. Kasambe', 'Dr. S.S. Rathod': 'Dr. Surendra S. Rathod', 'Dr.K T V Reddy': 'Dr. K.T.V. Reddy', 'K.T.V. Reddy': 'Dr. K.T.V. Reddy', 'Prof. K.T.V. Talele': 'Prof. Kiran Talele', 'Priya Chimurkar': 'Prof. Priya Chimurkar', 'Prof Pallavi Malame': 'Prof. Pallavi Malame', 'Prof. Aarti Karande': 'Dr. Aarti Karande'}\n",
        "# Rename values in the specified column\n",
        "df['Guid 2 Name'] = df['Guid 2 Name'].replace(column_to_rename_values)"
      ],
      "metadata": {
        "id": "Kraik3FFRg9u"
      },
      "execution_count": 541,
      "outputs": []
    },
    {
      "cell_type": "code",
      "source": [
        "# Convert the 'Guid 1 Name' column to strings\n",
        "df['Guid 1 Name'] = df['Guid 1 Name'].astype(str)\n",
        "\n",
        "# Get the unique values of 'Guid 1 Name'\n",
        "unique_values = df['Guid 1 Name'].unique()\n",
        "\n",
        "# Define a custom sorting function\n",
        "def custom_sort(val):\n",
        "    # Split the string into parts before and after the last letter\n",
        "    parts = str(val).rsplit(maxsplit=1)\n",
        "    if len(parts) == 1:\n",
        "        return ('', parts[0])\n",
        "    prefix, last_letter = parts\n",
        "    # Sort by last letter first, then by the prefix\n",
        "    return (last_letter, prefix)\n",
        "\n",
        "# Sort the unique values using the custom sorting function\n",
        "sorted_unique_values = sorted(unique_values, key=custom_sort)\n",
        "\n",
        "print(sorted_unique_values)"
      ],
      "metadata": {
        "colab": {
          "base_uri": "https://localhost:8080/"
        },
        "id": "6Rw589A84g27",
        "outputId": "534ab9db-ae6a-4713-e209-a55bfc48f103"
      },
      "execution_count": 542,
      "outputs": [
        {
          "output_type": "stream",
          "name": "stdout",
          "text": [
            "['0', 'nan', 'Prof. Dayanand Ambawade', 'Prof. Manisha Bansode', 'Prof. Narendra Bhagat', 'Dr. Prasenjit Bhavathankar', 'Prof. Rupesh Bhoir', 'Prof. Pramod Bide', 'Prof. Sheetal Chaudhari', 'Prof. Priya Chimurkar', 'Prof. Prachi Dalvi', 'Dr. Rita Das', 'Dr. Neeti Desai', 'Dr. Amol S Deshpande', 'Prof. Priya Deshpande', 'Prof. Kailas Devadkar', 'Dr. Sudhir Namdeorao Dhage', 'Prof. Surekha Dholay', 'Prof. Kiran Gawande', 'Prof. Sunil B. Ghane', 'Dr. Prachi Gharpure', 'Prof. Najib Ghatte', 'Prof. Anand Godbole', 'Prof. Arti Hadap', 'Prof. Aparna Halbe', 'Prof. G. T. Haldankar', 'Prof. Varsha Hole', 'Dr. Preetida Vinayakray Jani', 'Dr. D. R. Kalbande', 'Prof. Vijaya Kamble', 'Prof. Harshil Kanakia', 'Dr. Aarti Karande', 'Dr. Deepak C Karia', 'Prof. P. V. Kasambe', 'Dr. Uday Pandit Khot', 'Prof. Reeta Koshy', 'Dr. Sujata S Kulkarni', 'Dr. Sukanya A. Kulkarni', 'Prof. Swapnali Kurhade', 'Prof. Pallavi Malame', 'Prof. Anand D. Mane', 'Prof. Nikhita Mangaonkar', 'Dr. B. K. Mishra', 'Prof. Nikahat Mulla', 'Prof. Mayura Nagar', 'Dr. Anant V. Nimkar', 'Prof. Milind Paraye', 'Prof. Manish M. Parmar', 'Prof. Renuka Pawar', 'Prof. Jyoti Ramteke', 'Dr. Y.S. Rao', 'Dr. Surendra S. Rathod', 'Prof. Nataasha Raul', 'Dr. Pooja Raundale', 'Prof. Sakina Salmani', 'Prof. Abhijeet Salunke', 'Dr. Rajendra R Sawant', 'Prof. Rupali Sawant', 'Dr. Payal Hitesh Shah', 'Dr. Radha Shankarmani', 'Prof. Taruna Sharma', 'Prof. Jignesh Sisodia', 'Dr. Reena Sonkusare', 'Dr. Rajendra Sutar', 'Prof. Kiran Talele', 'Prof. Pallavi Thakur', 'Dr. Kushal Tuckley']\n"
          ]
        }
      ]
    },
    {
      "cell_type": "code",
      "source": [
        "# Convert the 'Guid 2 Name' column to strings\n",
        "df['Guid 2 Name'] = df['Guid 2 Name'].astype(str)\n",
        "\n",
        "# Get the unique values of 'Guid 2 Name'\n",
        "unique_values = df['Guid 2 Name'].unique()\n",
        "\n",
        "# Define a custom sorting function\n",
        "def custom_sort(val):\n",
        "    # Split the string into parts before and after the last letter\n",
        "    parts = str(val).rsplit(maxsplit=1)\n",
        "    if len(parts) == 1:\n",
        "        return ('', parts[0])\n",
        "    prefix, last_letter = parts\n",
        "    # Sort by last letter first, then by the prefix\n",
        "    return (last_letter, prefix)\n",
        "\n",
        "# Sort the unique values using the custom sorting function\n",
        "sorted_unique_values = sorted(unique_values, key=custom_sort)\n",
        "\n",
        "print(sorted_unique_values)"
      ],
      "metadata": {
        "colab": {
          "base_uri": "https://localhost:8080/"
        },
        "id": "qcNpI9W14gvB",
        "outputId": "e2a1a724-642e-4854-c0b5-b659dfc1331c"
      },
      "execution_count": 543,
      "outputs": [
        {
          "output_type": "stream",
          "name": "stdout",
          "text": [
            "['nan', 'Prof. Dayanand Ambawade', 'Prof. Nida Bakereywala', 'Mr. Sarvesh Bedekar', 'Prof. Narendra Bhagat', 'Dr. Prasenjit Bhavathankar', 'D. V. Bhoir', 'Prof. Pramod Bide', 'Prof. Sheetal Chaudhari', 'Prof. Priya Chimurkar', 'Dr. Rita Das', 'Dr. Amol S Deshpande', 'Prof. Kailas Devadkar', 'Dr. Sudhir Namdeorao Dhage', 'Prof. Surekha Dholay', 'Prof. Kiran Gawande', 'Prof. Sunil B. Ghane', 'Dr. Prachi Gharpure', 'Prof. Najib Ghatte', 'Prof. Anand Godbole', 'Prof. Aparna Halbe', 'Prof. G. T. Haldankar', 'Prof. Varsha Hole', 'Yogesh Jadhav', 'Dr.Mithali Jage', 'Dr. D. R. Kalbande', 'Prof. Vijaya Kamble', 'Prof. Harshil Kanakia', 'Dr. Aarti Karande', 'Dr. Deepak C Karia', 'Prof. P. V. Kasambe', 'Prof. Kaisar Katchi', 'Dr. Uday Pandit Khot', 'Prof. Reeta Koshy', 'Dr. Sujata S Kulkarni', 'Dr. Reena Kumbhare', 'Prof. Swapnali Kurhade', 'Prof. Pallavi Malame', 'Prof. Anand D. Mane', 'Prof. Nikhita Mangaonkar', 'Prof. Nikahat Mulla', 'Prof. Mayura Nagar', 'Prof. Meghana Naik', 'Dr. Anant V. Nimkar', 'Prof. Manish M. Parmar', 'Prof. Renuka Pawar', 'Prof. Jyoti Ramteke', 'Dr. Y.S. Rao', 'Dr. Surendra S. Rathod', 'Prof. Nataasha Raul', 'Dr. Pooja Raundale', 'Dr. K.T.V. Reddy', 'Prof. Sakina Salmani', 'Prof. Abhijeet Salunke', 'Dr. Rajendra R Sawant', 'Prof. Rupali Sawant', 'Dr. Payal Hitesh Shah', 'Dr. Radha Shankarmani', 'Dr. Avinash Sharma', 'Dr. Reena Sonkusare', 'Dr. Rajendra Sutar', 'Prof. Kiran Talele', 'Prof. Pallavi Thakur', 'Prof. Ananthalakshmi Venkatesh', 'Prof. Sneha A. Weakey']\n"
          ]
        }
      ]
    },
    {
      "cell_type": "code",
      "source": [
        "df['Type of Paper'].unique()"
      ],
      "metadata": {
        "colab": {
          "base_uri": "https://localhost:8080/"
        },
        "id": "BfqfR8tzRgjm",
        "outputId": "0fa4ad4b-5ff4-4b64-c4ce-018c82b005f1"
      },
      "execution_count": 544,
      "outputs": [
        {
          "output_type": "execute_result",
          "data": {
            "text/plain": [
              "array(['Conference', 'Journal', 'international', 'national', nan],\n",
              "      dtype=object)"
            ]
          },
          "metadata": {},
          "execution_count": 544
        }
      ]
    },
    {
      "cell_type": "code",
      "source": [
        "df['Type of Publication'].unique()"
      ],
      "metadata": {
        "colab": {
          "base_uri": "https://localhost:8080/"
        },
        "id": "OmQyEE7TRghB",
        "outputId": "badd19cd-82b2-4457-d6e5-7b287b05f58f"
      },
      "execution_count": 545,
      "outputs": [
        {
          "output_type": "execute_result",
          "data": {
            "text/plain": [
              "array(['International', 'National', 'international', 'national',\n",
              "       'Conference', nan], dtype=object)"
            ]
          },
          "metadata": {},
          "execution_count": 545
        }
      ]
    },
    {
      "cell_type": "code",
      "source": [
        "# Specify the column and the dictionary of old and new values\n",
        "column_to_rename_values = {'international': 'International', 'national': 'National'}\n",
        "\n",
        "# Rename values in the specified column\n",
        "df['Type of Paper'] = df['Type of Paper'].replace(column_to_rename_values)"
      ],
      "metadata": {
        "id": "HGLjGcD-bIcX"
      },
      "execution_count": 546,
      "outputs": []
    },
    {
      "cell_type": "code",
      "source": [
        "# Specify the column and the dictionary of old and new values\n",
        "column_to_rename_values = {'international': 'International', 'national': 'National'}\n",
        "\n",
        "# Rename values in the specified column\n",
        "df['Type of Publication'] = df['Type of Publication'].replace(column_to_rename_values)"
      ],
      "metadata": {
        "id": "lUTc5Mezbo1T"
      },
      "execution_count": 547,
      "outputs": []
    },
    {
      "cell_type": "code",
      "source": [
        "df['Type of Paper'].unique()"
      ],
      "metadata": {
        "colab": {
          "base_uri": "https://localhost:8080/"
        },
        "id": "QilPUZ6qbvLa",
        "outputId": "fe41c82b-0a0d-450f-e6b1-0ac7bfb059d9"
      },
      "execution_count": 548,
      "outputs": [
        {
          "output_type": "execute_result",
          "data": {
            "text/plain": [
              "array(['Conference', 'Journal', 'International', 'National', nan],\n",
              "      dtype=object)"
            ]
          },
          "metadata": {},
          "execution_count": 548
        }
      ]
    },
    {
      "cell_type": "code",
      "source": [
        "df['Type of Publication'].unique()"
      ],
      "metadata": {
        "colab": {
          "base_uri": "https://localhost:8080/"
        },
        "id": "FGSgxkrcbxaT",
        "outputId": "f92549e6-a569-4460-e1fb-f6786a25f46a"
      },
      "execution_count": 549,
      "outputs": [
        {
          "output_type": "execute_result",
          "data": {
            "text/plain": [
              "array(['International', 'National', 'Conference', nan], dtype=object)"
            ]
          },
          "metadata": {},
          "execution_count": 549
        }
      ]
    },
    {
      "cell_type": "code",
      "source": [
        "value_counts = df['Type of Paper'].value_counts()\n",
        "value_counts"
      ],
      "metadata": {
        "colab": {
          "base_uri": "https://localhost:8080/"
        },
        "id": "mHziNYn0bzAG",
        "outputId": "13b6dc9f-8621-422d-a9a9-e0bbccf4fc53"
      },
      "execution_count": 550,
      "outputs": [
        {
          "output_type": "execute_result",
          "data": {
            "text/plain": [
              "Type of Paper\n",
              "Conference       545\n",
              "International    277\n",
              "Journal           77\n",
              "National          55\n",
              "Name: count, dtype: int64"
            ]
          },
          "metadata": {},
          "execution_count": 550
        }
      ]
    },
    {
      "cell_type": "code",
      "source": [
        "value_counts = df['Type of Publication'].value_counts()\n",
        "value_counts"
      ],
      "metadata": {
        "colab": {
          "base_uri": "https://localhost:8080/"
        },
        "id": "WUyqOmC0caVy",
        "outputId": "803a4e9d-60d5-4e74-a395-29f70d8ce224"
      },
      "execution_count": 551,
      "outputs": [
        {
          "output_type": "execute_result",
          "data": {
            "text/plain": [
              "Type of Publication\n",
              "International    855\n",
              "National          98\n",
              "Conference         1\n",
              "Name: count, dtype: int64"
            ]
          },
          "metadata": {},
          "execution_count": 551
        }
      ]
    },
    {
      "cell_type": "code",
      "source": [
        "import pandas as pd\n",
        "\n",
        "# Assuming df is your DataFrame and 'Type of Paper' and 'Type of Publication' are the names of the columns\n",
        "# Concatenate the values from both columns with a space in between\n",
        "combined_values = df['Type of Paper'].astype(str) + \" \" + df['Type of Publication'].astype(str)\n",
        "\n",
        "# Get the unique combinations\n",
        "unique_combinations = combined_values.unique()\n",
        "\n",
        "# Create a DataFrame with the unique combinations\n",
        "unique_combinations_df = pd.DataFrame({'Combined Values': unique_combinations})\n",
        "\n",
        "print(unique_combinations_df)"
      ],
      "metadata": {
        "colab": {
          "base_uri": "https://localhost:8080/"
        },
        "id": "GH1sZzeTcjqh",
        "outputId": "9dd08a1d-1662-4399-8661-b85881c30cf4"
      },
      "execution_count": 552,
      "outputs": [
        {
          "output_type": "stream",
          "name": "stdout",
          "text": [
            "               Combined Values\n",
            "0     Conference International\n",
            "1        Journal International\n",
            "2          Conference National\n",
            "3             Journal National\n",
            "4  International International\n",
            "5            National National\n",
            "6        Conference Conference\n",
            "7                      nan nan\n"
          ]
        }
      ]
    },
    {
      "cell_type": "code",
      "source": [
        "import pandas as pd\n",
        "import numpy as np\n",
        "\n",
        "# Assuming df is your DataFrame\n",
        "# Identify rows where both \"Type of Paper\" and \"Type of Publication\" contain the word \"internation\"\n",
        "mask = (df['Type of Paper'].str.contains('International', case=False, na=False)) & \\\n",
        "       (df['Type of Publication'].str.contains('International', case=False, na=False))\n",
        "\n",
        "# Set the value of \"Type of Paper\" to null for those rows\n",
        "df.loc[mask, 'Type of Paper'] = np.nan\n",
        "\n",
        "# Now you can use the modified DataFrame for further analysis or processing"
      ],
      "metadata": {
        "id": "HuqVRQa9diu2"
      },
      "execution_count": 553,
      "outputs": []
    },
    {
      "cell_type": "code",
      "source": [
        "import pandas as pd\n",
        "\n",
        "# Assuming df is your DataFrame and 'Type of Paper' and 'Type of Publication' are the names of the columns\n",
        "# Concatenate the values from both columns with a space in between\n",
        "combined_values = df['Type of Paper'].astype(str) + \" \" + df['Type of Publication'].astype(str)\n",
        "\n",
        "# Get the unique combinations\n",
        "unique_combinations = combined_values.unique()\n",
        "\n",
        "# Create a DataFrame with the unique combinations\n",
        "unique_combinations_df = pd.DataFrame({'Combined Values': unique_combinations})\n",
        "\n",
        "print(unique_combinations_df)"
      ],
      "metadata": {
        "colab": {
          "base_uri": "https://localhost:8080/"
        },
        "id": "5_oiqgEjfIHl",
        "outputId": "9ab8ed42-de0e-4b34-b96e-759a9d3de907"
      },
      "execution_count": 554,
      "outputs": [
        {
          "output_type": "stream",
          "name": "stdout",
          "text": [
            "            Combined Values\n",
            "0  Conference International\n",
            "1     Journal International\n",
            "2       Conference National\n",
            "3          Journal National\n",
            "4         nan International\n",
            "5         National National\n",
            "6     Conference Conference\n",
            "7                   nan nan\n"
          ]
        }
      ]
    },
    {
      "cell_type": "code",
      "source": [
        "import pandas as pd\n",
        "import numpy as np\n",
        "\n",
        "# Assuming df is your DataFrame\n",
        "# Identify rows where both \"Type of Paper\" and \"Type of Publication\" contain the word \"internation\"\n",
        "mask = (df['Type of Paper'].str.contains('National', case=False, na=False)) & \\\n",
        "       (df['Type of Publication'].str.contains('National', case=False, na=False))\n",
        "\n",
        "# Set the value of \"Type of Paper\" to null for those rows\n",
        "df.loc[mask, 'Type of Paper'] = np.nan\n",
        "\n",
        "# Now you can use the modified DataFrame for further analysis or processing"
      ],
      "metadata": {
        "id": "_JPqQvv-fJtt"
      },
      "execution_count": 555,
      "outputs": []
    },
    {
      "cell_type": "code",
      "source": [
        "import pandas as pd\n",
        "import numpy as np\n",
        "\n",
        "# Assuming df is your DataFrame\n",
        "# Identify rows where both \"Type of Paper\" and \"Type of Publication\" contain the word \"internation\"\n",
        "mask = (df['Type of Paper'].str.contains('Conference', case=False, na=False)) & \\\n",
        "       (df['Type of Publication'].str.contains('Conference', case=False, na=False))\n",
        "\n",
        "# Set the value of \"Type of Paper\" to null for those rows\n",
        "df.loc[mask, 'Type of Publication'] = np.nan\n",
        "\n",
        "# Now you can use the modified DataFrame for further analysis or processing"
      ],
      "metadata": {
        "id": "I41Tu95JfiBX"
      },
      "execution_count": 556,
      "outputs": []
    },
    {
      "cell_type": "code",
      "source": [
        "import pandas as pd\n",
        "\n",
        "# Assuming df is your DataFrame and 'Type of Paper' and 'Type of Publication' are the names of the columns\n",
        "# Concatenate the values from both columns with a space in between\n",
        "combined_values = df['Type of Paper'].astype(str) + \" \" + df['Type of Publication'].astype(str)\n",
        "\n",
        "# Get the unique combinations\n",
        "unique_combinations = combined_values.unique()\n",
        "\n",
        "# Create a DataFrame with the unique combinations\n",
        "unique_combinations_df = pd.DataFrame({'Combined Values': unique_combinations})\n",
        "\n",
        "print(unique_combinations_df)"
      ],
      "metadata": {
        "colab": {
          "base_uri": "https://localhost:8080/"
        },
        "id": "7fv2U7lffoVg",
        "outputId": "32e4c338-0cf3-4bfe-b9c9-b5a40f586391"
      },
      "execution_count": 557,
      "outputs": [
        {
          "output_type": "stream",
          "name": "stdout",
          "text": [
            "            Combined Values\n",
            "0  Conference International\n",
            "1     Journal International\n",
            "2       Conference National\n",
            "3          Journal National\n",
            "4         nan International\n",
            "5              nan National\n",
            "6            Conference nan\n",
            "7                   nan nan\n"
          ]
        }
      ]
    },
    {
      "cell_type": "code",
      "source": [
        "df.info()"
      ],
      "metadata": {
        "colab": {
          "base_uri": "https://localhost:8080/"
        },
        "id": "W6BYjcBdfqcE",
        "outputId": "8d992f59-188d-4a79-ed15-1a188c0081b6"
      },
      "execution_count": 558,
      "outputs": [
        {
          "output_type": "stream",
          "name": "stdout",
          "text": [
            "<class 'pandas.core.frame.DataFrame'>\n",
            "RangeIndex: 958 entries, 0 to 957\n",
            "Data columns (total 11 columns):\n",
            " #   Column                  Non-Null Count  Dtype \n",
            "---  ------                  --------------  ----- \n",
            " 0   Title of Paper          958 non-null    object\n",
            " 1   Year                    958 non-null    object\n",
            " 2   Application Type        958 non-null    object\n",
            " 3   Application Course      958 non-null    object\n",
            " 4   Application Department  957 non-null    object\n",
            " 5   Application Class       958 non-null    object\n",
            " 6   Guid 1 Name             958 non-null    object\n",
            " 7   Guid 2 Name             958 non-null    object\n",
            " 8   Type of Paper           622 non-null    object\n",
            " 9   Type of Publication     953 non-null    object\n",
            " 10  Conference_Type         926 non-null    object\n",
            "dtypes: object(11)\n",
            "memory usage: 82.5+ KB\n"
          ]
        }
      ]
    },
    {
      "cell_type": "code",
      "source": [
        "df['Year'].unique()"
      ],
      "metadata": {
        "colab": {
          "base_uri": "https://localhost:8080/"
        },
        "id": "A4EQBGAqfs5X",
        "outputId": "9ee5219b-d983-4447-85c6-9efd391d83a3"
      },
      "execution_count": 559,
      "outputs": [
        {
          "output_type": "execute_result",
          "data": {
            "text/plain": [
              "array(['2016-17', '2017-18', '2018-19', '2019-20', '2020-21', '2021-22',\n",
              "       '2022-23', '2023-24', '2024-25'], dtype=object)"
            ]
          },
          "metadata": {},
          "execution_count": 559
        }
      ]
    },
    {
      "cell_type": "code",
      "source": [
        "df['Application Type'].unique()"
      ],
      "metadata": {
        "colab": {
          "base_uri": "https://localhost:8080/"
        },
        "id": "PifFu_C5fvFO",
        "outputId": "4a81985f-d02e-4bce-b454-f1e3d314ee1b"
      },
      "execution_count": 560,
      "outputs": [
        {
          "output_type": "execute_result",
          "data": {
            "text/plain": [
              "array(['Student', 'Faculty', 'Research Scholar'], dtype=object)"
            ]
          },
          "metadata": {},
          "execution_count": 560
        }
      ]
    },
    {
      "cell_type": "code",
      "source": [
        "df['Application Course'].unique()"
      ],
      "metadata": {
        "colab": {
          "base_uri": "https://localhost:8080/"
        },
        "id": "4KAC91o_fxut",
        "outputId": "d14c4f09-fc7f-4821-d7db-edefcfca92f3"
      },
      "execution_count": 561,
      "outputs": [
        {
          "output_type": "execute_result",
          "data": {
            "text/plain": [
              "array(['UG', 'PG', 'PhD', 'Faculty'], dtype=object)"
            ]
          },
          "metadata": {},
          "execution_count": 561
        }
      ]
    },
    {
      "cell_type": "code",
      "source": [
        "df['Application Department'].unique()"
      ],
      "metadata": {
        "colab": {
          "base_uri": "https://localhost:8080/"
        },
        "id": "0RnZfwbrf1MG",
        "outputId": "29b2e9fb-db97-47a5-e39d-b97dfca560f9"
      },
      "execution_count": 562,
      "outputs": [
        {
          "output_type": "execute_result",
          "data": {
            "text/plain": [
              "array(['COMPS', 'IT', 'ETRX', 'MCA', 'EXTC', nan], dtype=object)"
            ]
          },
          "metadata": {},
          "execution_count": 562
        }
      ]
    },
    {
      "cell_type": "code",
      "source": [
        "df['Application Class'].unique()"
      ],
      "metadata": {
        "colab": {
          "base_uri": "https://localhost:8080/"
        },
        "id": "1IDqzLgcf4-C",
        "outputId": "5445a32c-3269-431a-8686-56bb9f621e47"
      },
      "execution_count": 563,
      "outputs": [
        {
          "output_type": "execute_result",
          "data": {
            "text/plain": [
              "array(['F.Y.', 'Student', 'B.E.', 'S.Y.MTech', 'T.Y.MCA', 'Faculty',\n",
              "       'PhD', 'T.Y.', 'M.E.', 'S.Y.', 'S.Y.MCA', 'Research Scholar',\n",
              "       'F.Y.MTech', 'F.Y.MCA'], dtype=object)"
            ]
          },
          "metadata": {},
          "execution_count": 563
        }
      ]
    },
    {
      "cell_type": "code",
      "source": [
        "df['Conference_Type'].unique()"
      ],
      "metadata": {
        "colab": {
          "base_uri": "https://localhost:8080/"
        },
        "id": "FDrCNrisf8Aa",
        "outputId": "99e502fd-9695-4279-ef83-26253696d5b4"
      },
      "execution_count": 564,
      "outputs": [
        {
          "output_type": "execute_result",
          "data": {
            "text/plain": [
              "array(['IEEE', 'Other', 'Springer', 'ACM', 'ieee', 'other', nan,\n",
              "       'spriger'], dtype=object)"
            ]
          },
          "metadata": {},
          "execution_count": 564
        }
      ]
    },
    {
      "cell_type": "code",
      "source": [
        "# Specify the column and the dictionary of old and new values\n",
        "column_to_rename_values = {'ieee': 'IEEE', 'other': 'Other', 'spriger': 'Springer'}\n",
        "\n",
        "# Rename values in the specified column\n",
        "df['Conference_Type'] = df['Conference_Type'].replace(column_to_rename_values)"
      ],
      "metadata": {
        "id": "2GiDZljZgFPD"
      },
      "execution_count": 565,
      "outputs": []
    },
    {
      "cell_type": "code",
      "source": [
        "df['Conference_Type'].unique()"
      ],
      "metadata": {
        "colab": {
          "base_uri": "https://localhost:8080/"
        },
        "id": "hfGRKQ6XgT2I",
        "outputId": "b3971358-7f8a-4520-d9ae-fc04857fe540"
      },
      "execution_count": 566,
      "outputs": [
        {
          "output_type": "execute_result",
          "data": {
            "text/plain": [
              "array(['IEEE', 'Other', 'Springer', 'ACM', nan], dtype=object)"
            ]
          },
          "metadata": {},
          "execution_count": 566
        }
      ]
    },
    {
      "cell_type": "code",
      "source": [
        "df.info()"
      ],
      "metadata": {
        "colab": {
          "base_uri": "https://localhost:8080/"
        },
        "id": "S3IuTASggVlC",
        "outputId": "ebc6956d-07f6-4ecd-8431-ca6b43fc6319"
      },
      "execution_count": 567,
      "outputs": [
        {
          "output_type": "stream",
          "name": "stdout",
          "text": [
            "<class 'pandas.core.frame.DataFrame'>\n",
            "RangeIndex: 958 entries, 0 to 957\n",
            "Data columns (total 11 columns):\n",
            " #   Column                  Non-Null Count  Dtype \n",
            "---  ------                  --------------  ----- \n",
            " 0   Title of Paper          958 non-null    object\n",
            " 1   Year                    958 non-null    object\n",
            " 2   Application Type        958 non-null    object\n",
            " 3   Application Course      958 non-null    object\n",
            " 4   Application Department  957 non-null    object\n",
            " 5   Application Class       958 non-null    object\n",
            " 6   Guid 1 Name             958 non-null    object\n",
            " 7   Guid 2 Name             958 non-null    object\n",
            " 8   Type of Paper           622 non-null    object\n",
            " 9   Type of Publication     953 non-null    object\n",
            " 10  Conference_Type         926 non-null    object\n",
            "dtypes: object(11)\n",
            "memory usage: 82.5+ KB\n"
          ]
        }
      ]
    },
    {
      "cell_type": "code",
      "source": [
        "df['Guid 1 Name'].unique()"
      ],
      "metadata": {
        "colab": {
          "base_uri": "https://localhost:8080/"
        },
        "id": "LcD7coqwgtWi",
        "outputId": "8d9cb94a-4a2e-42e4-f91b-2c431632dcf6"
      },
      "execution_count": 568,
      "outputs": [
        {
          "output_type": "execute_result",
          "data": {
            "text/plain": [
              "array(['Dr. Y.S. Rao', 'Prof. Manisha Bansode',\n",
              "       'Dr. Sudhir Namdeorao Dhage', 'Prof. Manish M. Parmar',\n",
              "       'Dr. Reena Sonkusare', 'Prof. Nataasha Raul',\n",
              "       'Prof. Anand D. Mane', 'Dr. Anant V. Nimkar',\n",
              "       'Prof. Dayanand Ambawade', 'Prof. Rupesh Bhoir',\n",
              "       'Prof. Jyoti Ramteke', 'Prof. Anand Godbole', 'Dr. D. R. Kalbande',\n",
              "       'Prof. Kiran Gawande', 'Dr. Prachi Gharpure', 'Prof. Reeta Koshy',\n",
              "       'Prof. Surekha Dholay', 'Dr. Surendra S. Rathod',\n",
              "       'Dr. Pooja Raundale', 'Prof. Jignesh Sisodia',\n",
              "       'Prof. Abhijeet Salunke', 'Dr. Radha Shankarmani',\n",
              "       'Dr. Preetida Vinayakray Jani', 'Prof. Pramod Bide',\n",
              "       'Dr. Deepak C Karia', 'nan', 'Dr. Amol S Deshpande',\n",
              "       'Prof. Sunil B. Ghane', 'Prof. P. V. Kasambe', 'Prof. Varsha Hole',\n",
              "       'Prof. Swapnali Kurhade', 'Prof. Sheetal Chaudhari',\n",
              "       'Prof. Kailas Devadkar', 'Prof. Rupali Sawant',\n",
              "       'Prof. Renuka Pawar', 'Prof. Aparna Halbe',\n",
              "       'Dr. Prasenjit Bhavathankar', 'Prof. Nikahat Mulla',\n",
              "       'Dr. Rajendra Sutar', 'Prof. G. T. Haldankar',\n",
              "       'Prof. Kiran Talele', 'Dr. Kushal Tuckley',\n",
              "       'Dr. Payal Hitesh Shah', '0', 'Prof. Narendra Bhagat',\n",
              "       'Prof. Priya Chimurkar', 'Prof. Najib Ghatte',\n",
              "       'Prof. Priya Deshpande', 'Dr. Uday Pandit Khot',\n",
              "       'Prof. Sakina Salmani', 'Prof. Harshil Kanakia',\n",
              "       'Prof. Nikhita Mangaonkar', 'Prof. Pallavi Thakur',\n",
              "       'Dr. Neeti Desai', 'Prof. Taruna Sharma', 'Dr. Aarti Karande',\n",
              "       'Prof. Mayura Nagar', 'Dr. B. K. Mishra',\n",
              "       'Dr. Sukanya A. Kulkarni', 'Prof. Vijaya Kamble',\n",
              "       'Prof. Arti Hadap', 'Prof. Milind Paraye', 'Dr. Rajendra R Sawant',\n",
              "       'Dr. Sujata S Kulkarni', 'Prof. Pallavi Malame', 'Dr. Rita Das',\n",
              "       'Prof. Prachi Dalvi'], dtype=object)"
            ]
          },
          "metadata": {},
          "execution_count": 568
        }
      ]
    },
    {
      "cell_type": "code",
      "source": [
        "import pandas as pd\n",
        "import numpy as np\n",
        "\n",
        "# Assuming df is your DataFrame and 'Guid 1 Name' is the name of your column\n",
        "# Replace '0' with NaN\n",
        "df['Guid 1 Name'] = df['Guid 1 Name'].replace('0', np.nan)\n",
        "\n",
        "# Now you can use the modified DataFrame for further analysis or processing"
      ],
      "metadata": {
        "id": "otoyrWmLgxtW"
      },
      "execution_count": 569,
      "outputs": []
    },
    {
      "cell_type": "code",
      "source": [
        "df['Guid 1 Name'].unique()"
      ],
      "metadata": {
        "colab": {
          "base_uri": "https://localhost:8080/"
        },
        "id": "NGWtSVRWhAl8",
        "outputId": "0dbc72a9-4145-4ed6-d2c2-6965bf8a2761"
      },
      "execution_count": 570,
      "outputs": [
        {
          "output_type": "execute_result",
          "data": {
            "text/plain": [
              "array(['Dr. Y.S. Rao', 'Prof. Manisha Bansode',\n",
              "       'Dr. Sudhir Namdeorao Dhage', 'Prof. Manish M. Parmar',\n",
              "       'Dr. Reena Sonkusare', 'Prof. Nataasha Raul',\n",
              "       'Prof. Anand D. Mane', 'Dr. Anant V. Nimkar',\n",
              "       'Prof. Dayanand Ambawade', 'Prof. Rupesh Bhoir',\n",
              "       'Prof. Jyoti Ramteke', 'Prof. Anand Godbole', 'Dr. D. R. Kalbande',\n",
              "       'Prof. Kiran Gawande', 'Dr. Prachi Gharpure', 'Prof. Reeta Koshy',\n",
              "       'Prof. Surekha Dholay', 'Dr. Surendra S. Rathod',\n",
              "       'Dr. Pooja Raundale', 'Prof. Jignesh Sisodia',\n",
              "       'Prof. Abhijeet Salunke', 'Dr. Radha Shankarmani',\n",
              "       'Dr. Preetida Vinayakray Jani', 'Prof. Pramod Bide',\n",
              "       'Dr. Deepak C Karia', 'nan', 'Dr. Amol S Deshpande',\n",
              "       'Prof. Sunil B. Ghane', 'Prof. P. V. Kasambe', 'Prof. Varsha Hole',\n",
              "       'Prof. Swapnali Kurhade', 'Prof. Sheetal Chaudhari',\n",
              "       'Prof. Kailas Devadkar', 'Prof. Rupali Sawant',\n",
              "       'Prof. Renuka Pawar', 'Prof. Aparna Halbe',\n",
              "       'Dr. Prasenjit Bhavathankar', 'Prof. Nikahat Mulla',\n",
              "       'Dr. Rajendra Sutar', 'Prof. G. T. Haldankar',\n",
              "       'Prof. Kiran Talele', 'Dr. Kushal Tuckley',\n",
              "       'Dr. Payal Hitesh Shah', nan, 'Prof. Narendra Bhagat',\n",
              "       'Prof. Priya Chimurkar', 'Prof. Najib Ghatte',\n",
              "       'Prof. Priya Deshpande', 'Dr. Uday Pandit Khot',\n",
              "       'Prof. Sakina Salmani', 'Prof. Harshil Kanakia',\n",
              "       'Prof. Nikhita Mangaonkar', 'Prof. Pallavi Thakur',\n",
              "       'Dr. Neeti Desai', 'Prof. Taruna Sharma', 'Dr. Aarti Karande',\n",
              "       'Prof. Mayura Nagar', 'Dr. B. K. Mishra',\n",
              "       'Dr. Sukanya A. Kulkarni', 'Prof. Vijaya Kamble',\n",
              "       'Prof. Arti Hadap', 'Prof. Milind Paraye', 'Dr. Rajendra R Sawant',\n",
              "       'Dr. Sujata S Kulkarni', 'Prof. Pallavi Malame', 'Dr. Rita Das',\n",
              "       'Prof. Prachi Dalvi'], dtype=object)"
            ]
          },
          "metadata": {},
          "execution_count": 570
        }
      ]
    },
    {
      "cell_type": "code",
      "source": [
        "df.info()"
      ],
      "metadata": {
        "colab": {
          "base_uri": "https://localhost:8080/"
        },
        "id": "hAH9ILsHhCKM",
        "outputId": "4fdd486d-929e-414c-8bfa-2a5a80f2e2d8"
      },
      "execution_count": 571,
      "outputs": [
        {
          "output_type": "stream",
          "name": "stdout",
          "text": [
            "<class 'pandas.core.frame.DataFrame'>\n",
            "RangeIndex: 958 entries, 0 to 957\n",
            "Data columns (total 11 columns):\n",
            " #   Column                  Non-Null Count  Dtype \n",
            "---  ------                  --------------  ----- \n",
            " 0   Title of Paper          958 non-null    object\n",
            " 1   Year                    958 non-null    object\n",
            " 2   Application Type        958 non-null    object\n",
            " 3   Application Course      958 non-null    object\n",
            " 4   Application Department  957 non-null    object\n",
            " 5   Application Class       958 non-null    object\n",
            " 6   Guid 1 Name             957 non-null    object\n",
            " 7   Guid 2 Name             958 non-null    object\n",
            " 8   Type of Paper           622 non-null    object\n",
            " 9   Type of Publication     953 non-null    object\n",
            " 10  Conference_Type         926 non-null    object\n",
            "dtypes: object(11)\n",
            "memory usage: 82.5+ KB\n"
          ]
        }
      ]
    },
    {
      "cell_type": "code",
      "source": [
        "df['Guid 2 Name'].unique()"
      ],
      "metadata": {
        "colab": {
          "base_uri": "https://localhost:8080/"
        },
        "id": "ca8U5mwNhSjy",
        "outputId": "f2529116-71ad-43f5-80a2-22b9759970c3"
      },
      "execution_count": 572,
      "outputs": [
        {
          "output_type": "execute_result",
          "data": {
            "text/plain": [
              "array(['nan', 'Dr. Surendra S. Rathod', 'Dr. Anant V. Nimkar',\n",
              "       'Mr. Sarvesh Bedekar', 'Dr.Mithali Jage', 'Dr. Prachi Gharpure',\n",
              "       'Prof. Anand Godbole', 'Dr. Rajendra R Sawant',\n",
              "       'Dr. Avinash Sharma', 'Prof. Kiran Talele',\n",
              "       'Dr. Sudhir Namdeorao Dhage', 'Yogesh Jadhav',\n",
              "       'Prof. Sunil B. Ghane', 'Prof. Nida Bakereywala',\n",
              "       'Dr. K.T.V. Reddy', 'Dr. Rajendra Sutar', 'Dr. Uday Pandit Khot',\n",
              "       'Prof. P. V. Kasambe', 'D. V. Bhoir', 'Prof. Priya Chimurkar',\n",
              "       'Dr. Payal Hitesh Shah', 'Dr. Deepak C Karia',\n",
              "       'Dr. Pooja Raundale', 'Prof. Mayura Nagar', 'Prof. Pallavi Thakur',\n",
              "       'Prof. Dayanand Ambawade', 'Prof. Pallavi Malame',\n",
              "       'Dr. Reena Sonkusare', 'Dr. Rita Das', 'Dr. Reena Kumbhare',\n",
              "       'Prof. Abhijeet Salunke', 'Dr. Amol S Deshpande',\n",
              "       'Dr. Prasenjit Bhavathankar', 'Prof. Surekha Dholay',\n",
              "       'Prof. Meghana Naik', 'Prof. Reeta Koshy', 'Prof. Najib Ghatte',\n",
              "       'Prof. Pramod Bide', 'Dr. Y.S. Rao', 'Dr. Radha Shankarmani',\n",
              "       'Prof. Nikahat Mulla', 'Prof. Kailas Devadkar',\n",
              "       'Prof. Rupali Sawant', 'Prof. Kaisar Katchi',\n",
              "       'Prof. Kiran Gawande', 'Prof. Jyoti Ramteke',\n",
              "       'Prof. Sneha A. Weakey', 'Prof. Manish M. Parmar',\n",
              "       'Prof. Anand D. Mane', 'Prof. Nataasha Raul',\n",
              "       'Prof. Vijaya Kamble', 'Prof. Renuka Pawar',\n",
              "       'Prof. Harshil Kanakia', 'Prof. Nikhita Mangaonkar',\n",
              "       'Dr. Aarti Karande', 'Prof. Ananthalakshmi Venkatesh',\n",
              "       'Prof. Narendra Bhagat', 'Prof. Aparna Halbe',\n",
              "       'Prof. Sheetal Chaudhari', 'Prof. Swapnali Kurhade',\n",
              "       'Prof. Varsha Hole', 'Dr. Sujata S Kulkarni', 'Dr. D. R. Kalbande',\n",
              "       'Prof. G. T. Haldankar', 'Prof. Sakina Salmani'], dtype=object)"
            ]
          },
          "metadata": {},
          "execution_count": 572
        }
      ]
    },
    {
      "cell_type": "code",
      "source": [
        "df.info()"
      ],
      "metadata": {
        "colab": {
          "base_uri": "https://localhost:8080/"
        },
        "id": "Xa6C2MlehUmp",
        "outputId": "4488017e-b9a8-43bc-a671-4b6f23f4aa84"
      },
      "execution_count": 573,
      "outputs": [
        {
          "output_type": "stream",
          "name": "stdout",
          "text": [
            "<class 'pandas.core.frame.DataFrame'>\n",
            "RangeIndex: 958 entries, 0 to 957\n",
            "Data columns (total 11 columns):\n",
            " #   Column                  Non-Null Count  Dtype \n",
            "---  ------                  --------------  ----- \n",
            " 0   Title of Paper          958 non-null    object\n",
            " 1   Year                    958 non-null    object\n",
            " 2   Application Type        958 non-null    object\n",
            " 3   Application Course      958 non-null    object\n",
            " 4   Application Department  957 non-null    object\n",
            " 5   Application Class       958 non-null    object\n",
            " 6   Guid 1 Name             957 non-null    object\n",
            " 7   Guid 2 Name             958 non-null    object\n",
            " 8   Type of Paper           622 non-null    object\n",
            " 9   Type of Publication     953 non-null    object\n",
            " 10  Conference_Type         926 non-null    object\n",
            "dtypes: object(11)\n",
            "memory usage: 82.5+ KB\n"
          ]
        }
      ]
    },
    {
      "cell_type": "code",
      "source": [
        "df['Type of Paper'].unique()"
      ],
      "metadata": {
        "colab": {
          "base_uri": "https://localhost:8080/"
        },
        "id": "A0_epXFfhYYF",
        "outputId": "5df8acee-3686-416a-ad97-4545b966c578"
      },
      "execution_count": 574,
      "outputs": [
        {
          "output_type": "execute_result",
          "data": {
            "text/plain": [
              "array(['Conference', 'Journal', nan], dtype=object)"
            ]
          },
          "metadata": {},
          "execution_count": 574
        }
      ]
    },
    {
      "cell_type": "code",
      "source": [
        "df['Type of Publication'].unique()"
      ],
      "metadata": {
        "colab": {
          "base_uri": "https://localhost:8080/"
        },
        "id": "rK55P77FhaIW",
        "outputId": "2dfa5f10-266a-40fb-9ea3-139763f40a80"
      },
      "execution_count": 575,
      "outputs": [
        {
          "output_type": "execute_result",
          "data": {
            "text/plain": [
              "array(['International', 'National', nan], dtype=object)"
            ]
          },
          "metadata": {},
          "execution_count": 575
        }
      ]
    },
    {
      "cell_type": "code",
      "source": [
        "df['Conference_Type'].unique()"
      ],
      "metadata": {
        "colab": {
          "base_uri": "https://localhost:8080/"
        },
        "id": "nlnn8Je-hbYC",
        "outputId": "bd83ccb0-208a-4631-e548-7fa9bdd57ed8"
      },
      "execution_count": 576,
      "outputs": [
        {
          "output_type": "execute_result",
          "data": {
            "text/plain": [
              "array(['IEEE', 'Other', 'Springer', 'ACM', nan], dtype=object)"
            ]
          },
          "metadata": {},
          "execution_count": 576
        }
      ]
    },
    {
      "cell_type": "code",
      "source": [
        "df.to_csv('dataset.csv', index=False)"
      ],
      "metadata": {
        "id": "i1fqkSrLhdBi"
      },
      "execution_count": 577,
      "outputs": []
    },
    {
      "cell_type": "code",
      "source": [],
      "metadata": {
        "id": "fvPB7wbStODH"
      },
      "execution_count": 577,
      "outputs": []
    }
  ]
}